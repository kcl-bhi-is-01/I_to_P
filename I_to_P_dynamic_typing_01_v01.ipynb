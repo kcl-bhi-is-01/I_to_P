{
 "cells": [
  {
   "cell_type": "markdown",
   "id": "36404fb1",
   "metadata": {},
   "source": [
    "# Dynamic Typing\n",
    "\n",
    "Python permits dynamic typing\n",
    "\n",
    "This notebook gives a simple illustration of how dynamic typing works"
   ]
  },
  {
   "cell_type": "markdown",
   "id": "6259484e",
   "metadata": {},
   "source": [
    "Firstly, we create a numeric variable, x, which has a fractional part:"
   ]
  },
  {
   "cell_type": "code",
   "execution_count": null,
   "id": "9e6e5d5d",
   "metadata": {},
   "outputs": [],
   "source": [
    "#\n",
    "# x is numeric, and has a fractional part\n",
    "#\n",
    "x = 46.7\n",
    "#\n",
    "print(\"x is:\")\n",
    "print(x)\n",
    "print(\"x's type is \" + str(type(x)))"
   ]
  },
  {
   "cell_type": "markdown",
   "id": "e8a73958",
   "metadata": {},
   "source": [
    "The \"type()\" function reveals that x is an instance of the class \"float\". A floating point number has a fractional part, where the decimal point is not in a fixed position"
   ]
  },
  {
   "cell_type": "markdown",
   "id": "79969795",
   "metadata": {},
   "source": [
    "Now, we assign an integer value to x:"
   ]
  },
  {
   "cell_type": "code",
   "execution_count": null,
   "id": "f105ea67",
   "metadata": {},
   "outputs": [],
   "source": [
    "#\n",
    "# x is numeric, but has no fractional part\n",
    "#\n",
    "x = 3\n",
    "#"
   ]
  },
  {
   "cell_type": "markdown",
   "id": "da1354a9",
   "metadata": {},
   "source": [
    "*Can you write code in the cell below to find out the current value of x, and what its type is?*"
   ]
  },
  {
   "cell_type": "code",
   "execution_count": null,
   "id": "88b8b592",
   "metadata": {},
   "outputs": [],
   "source": [
    "#\n",
    "# You can put your code here\n",
    "#"
   ]
  },
  {
   "cell_type": "markdown",
   "id": "0f6910f9",
   "metadata": {},
   "source": [
    "You can try assigning other values to x and seeing how its type changes (just add more code cells to this notebook) "
   ]
  },
  {
   "cell_type": "markdown",
   "id": "9f602f7b",
   "metadata": {},
   "source": [
    "Dynamic typing makes it quicker to prototype and experiment with code. \n",
    "\n",
    "It can cause problems in more complex Python programs, where, for example, the program expects x to be a string in a number of places, but a change is made somewhere, setting x to a numeric value"
   ]
  }
 ],
 "metadata": {
  "kernelspec": {
   "display_name": "Python 3 (ipykernel)",
   "language": "python",
   "name": "python3"
  },
  "language_info": {
   "codemirror_mode": {
    "name": "ipython",
    "version": 3
   },
   "file_extension": ".py",
   "mimetype": "text/x-python",
   "name": "python",
   "nbconvert_exporter": "python",
   "pygments_lexer": "ipython3",
   "version": "3.7.13"
  }
 },
 "nbformat": 4,
 "nbformat_minor": 5
}
