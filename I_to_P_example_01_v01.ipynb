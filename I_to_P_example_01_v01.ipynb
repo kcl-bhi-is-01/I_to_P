{
 "cells": [
  {
   "cell_type": "markdown",
   "id": "768272ba",
   "metadata": {},
   "source": [
    "# Example Colab Quiz\n",
    "\n",
    "This is a Jupyter Notebook running in Colab\n",
    "\n",
    "This cell is a `markdown` cell that is used for presenting information in a textual form"
   ]
  },
  {
   "cell_type": "code",
   "execution_count": null,
   "id": "c4e3f6e1",
   "metadata": {},
   "outputs": [],
   "source": [
    "#\n",
    "# This is a Python code cell. You can run it by clicking the arrow on the left hand side\n",
    "#\n",
    "# This imports a module called requests, which can be used to get data\n",
    "# from a web page without a browser\n",
    "#\n",
    "# You can see that the output is a bit of a mess. Luckily there are\n",
    "# other Python modules and packages available that can sort the mess out\n",
    "#\n",
    "#\n",
    "import requests\n",
    "#\n",
    "url      = \"https://colab.research.google.com/\"\n",
    "response = requests.get(url)\n",
    "print(response.text)"
   ]
  },
  {
   "cell_type": "markdown",
   "id": "64d3c2a5",
   "metadata": {},
   "source": [
    "Most of the quizzes in this course include code cells similar to the one below. It obtains additional resources that are needed to support the Notebook, typically code and data. You don't **have** to run it, but if you don't, then parts of the notebook that depend on it won't work"
   ]
  },
  {
   "cell_type": "code",
   "execution_count": null,
   "id": "d0e2a28b",
   "metadata": {},
   "outputs": [],
   "source": [
    "#\n",
    "# This cell imports functions that are used later on\n",
    "#\n",
    "!wget -nv https://github.com/kcl-bhi-is-01/I_to_P_anc/raw/main/I_to_P_example_01_v01.py\n",
    "import I_to_P_example_01_v01 as ex"
   ]
  },
  {
   "cell_type": "markdown",
   "id": "37e3ea0a",
   "metadata": {},
   "source": [
    "The code cell below sets up a list of countries, and another list containing their captial cities:"
   ]
  },
  {
   "cell_type": "code",
   "execution_count": null,
   "id": "2bd746ba",
   "metadata": {},
   "outputs": [],
   "source": [
    "#\n",
    "# Set up a list of countries and a list of capital cities\n",
    "#\n",
    "countries = [\"England\", \"Scotland\", \"Germany\", \"France\", \"Japan\", \"China\", \n",
    "             \"America\", \"Spain\", \"Kyrgyzstan\", \"Russia\", \"Australia\"]\n",
    "#\n",
    "capitals  = [\"London\", \"Edinburgh\", \"Berlin\", \"Paris\", \"Tokyo\", \"Beijing\",\n",
    "             \"Washington\", \"Madrid\", \"Bishkek\", \"Moscow\", \"Canberra\"]\n",
    "#\n",
    "print(countries)\n",
    "print(capitals)"
   ]
  },
  {
   "cell_type": "markdown",
   "id": "5ac829c0",
   "metadata": {},
   "source": [
    "The next code cell randomises the lists of countries and capitals:"
   ]
  },
  {
   "cell_type": "code",
   "execution_count": null,
   "id": "8a20bdcb",
   "metadata": {},
   "outputs": [],
   "source": [
    "#\n",
    "# Get randomly shuffled countries and cities\n",
    "#\n",
    "print(ex.random_countries())\n",
    "print()\n",
    "print(ex.random_cities())"
   ]
  },
  {
   "cell_type": "markdown",
   "id": "dd29c84d",
   "metadata": {},
   "source": [
    "This cell shuffles the lists again and displays the number of capital cities that are in the same position in the list as their country:"
   ]
  },
  {
   "cell_type": "code",
   "execution_count": null,
   "id": "c0d3cf8d",
   "metadata": {},
   "outputs": [],
   "source": [
    "#\n",
    "# Print out the number of points where country and capital matches\n",
    "#\n",
    "print(\"There are\", str(ex.good_capitals()), \"capitals in the right place\")\n",
    "#"
   ]
  },
  {
   "cell_type": "markdown",
   "id": "06bfe6f6",
   "metadata": {},
   "source": [
    "*Here's a question for you. If we run the previous code cell a large number of times, which result would show most frequently?*<br>\n",
    "*a) 0*<br>\n",
    "*b 11*<br>\n",
    "*c) 1*<br>\n",
    "*d) Another number*<br>"
   ]
  },
  {
   "cell_type": "markdown",
   "id": "80913879",
   "metadata": {},
   "source": [
    "You can check your answer by running the following code cell. But first you must change `my_answer` to a number that is your answer. Then run the cell"
   ]
  },
  {
   "cell_type": "code",
   "execution_count": null,
   "id": "bf4f0cb1",
   "metadata": {},
   "outputs": [],
   "source": [
    "#\n",
    "# Run this cell to check your answer\n",
    "#\n",
    "ex.check_result(result=1)"
   ]
  },
  {
   "cell_type": "markdown",
   "id": "46ef0527",
   "metadata": {},
   "source": [
    "If you can't get the answer right and want to know what it is, then you can display the Python code from the function `ex.check_result` as shown in the next cell\n",
    "\n",
    "*You can do the same thing in any Colab quiz where your answer is checked by a Python function. You just run the code in the cell below, but using the name of the `check_` function you want to see*"
   ]
  },
  {
   "cell_type": "code",
   "execution_count": null,
   "id": "1a73f142",
   "metadata": {},
   "outputs": [],
   "source": [
    "#\n",
    "# Run this cell to see what's inside \"ex.check_result\"\n",
    "#\n",
    "import inspect\n",
    "#\n",
    "print(inspect.getsource(ex.check_result))"
   ]
  }
 ],
 "metadata": {
  "kernelspec": {
   "display_name": "Python 3 (ipykernel)",
   "language": "python",
   "name": "python3"
  },
  "language_info": {
   "codemirror_mode": {
    "name": "ipython",
    "version": 3
   },
   "file_extension": ".py",
   "mimetype": "text/x-python",
   "name": "python",
   "nbconvert_exporter": "python",
   "pygments_lexer": "ipython3",
   "version": "3.7.13"
  }
 },
 "nbformat": 4,
 "nbformat_minor": 5
}
