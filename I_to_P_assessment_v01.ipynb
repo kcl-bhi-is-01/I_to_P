{
 "cells": [
  {
   "cell_type": "markdown",
   "id": "92922988",
   "metadata": {},
   "source": [
    "# Introduction to Python for Health Research\n",
    "\n",
    "# Assessment\n",
    "\n",
    "\n",
    "- Can restart\n",
    "- Score saved if you run submit\n",
    "- If you delete stuff from cells or mess it up you can restart from moodle\n",
    "- If you restart from Moodle you will get a different version of the dataset\n",
    "- Advise you to save your code on your computer somewhere just in case you want to redo it (what if they save on Colab?)\n",
    "- Clock ticking from when you get your key\n",
    "- 3 attempts mechanism\n",
    "- If any crashes \"just\" restart from Moodle\n",
    "- Different subset of dataset each time you restart this / maybe different questions (Shouldn't be if we do new .ipynb on key, but marginally possible)\n",
    "- Can be a good idea to copy your code in case Colab crash ... hmmm would this encourage cheating?\n",
    "- You need to spend time / work with paper / look things up / try things out\n",
    "- Add cells as you need to work stuff out\n",
    "\n",
    "\n",
    "**Important:** In order to run save the result of each question you will need to enter your `assessment key`. This is displayed to you when you click on the *Request your assessment key*, on the Moodle page \n",
    "\n",
    "**If you have not already obtained an assessment key please quit this script now, return to the Moodle page and request one**"
   ]
  },
  {
   "cell_type": "markdown",
   "id": "48627caa",
   "metadata": {},
   "source": [
    "Please start by running the next cell:"
   ]
  },
  {
   "cell_type": "code",
   "execution_count": null,
   "id": "06b087d6",
   "metadata": {},
   "outputs": [],
   "source": [
    "#\n",
    "# This cell imports data and functions that are used later on\n",
    "#\n",
    "!wget -nv https://github.com/kcl-bhi-is-01/I_to_P_anc/raw/main/I_to_P_supp_funcs_v03.pyc\n",
    "import I_to_P_supp_funcs_v03 as sf"
   ]
  },
  {
   "cell_type": "markdown",
   "id": "1d5f0d59",
   "metadata": {},
   "source": [
    "You can use the function call in the following cell to check your progress in this assessment examination\n",
    "\n",
    "In the cell, replace the string `my_key`, with the assessment key you obtained earlier from the Moodle page. If you have not already obtained an assessment key please quit this script now, return to the Moodle page and request one\n",
    "\n",
    "You can run `sf.check_my_progress(my_key=\"my_key\")` whenever you like"
   ]
  },
  {
   "cell_type": "code",
   "execution_count": null,
   "id": "47c4820e",
   "metadata": {},
   "outputs": [],
   "source": [
    "#\n",
    "# Run this cell to check your progress\n",
    "#\n",
    "sf.check_my_progress(my_key=\"my_key\")\n",
    "#"
   ]
  },
  {
   "cell_type": "markdown",
   "id": "0bcdf8ca",
   "metadata": {},
   "source": [
    "## Question 1 \n",
    "\n",
    "### Read a .csv with Pandas\n",
    "\n",
    "A subset of a (manicured) Thyroid condition diagnosis dataset *(Thanks to Ross Quinlan, Garavan Institute, Sydney, Australia)* is available in `thyroid.csv`\n",
    "\n",
    "*Use the Pandas package to read this dataset into a dataframe variable*\n",
    "\n",
    "You can use the next cell to work out your answer, and the cell below that to submit it"
   ]
  },
  {
   "cell_type": "code",
   "execution_count": null,
   "id": "72ef7f42",
   "metadata": {},
   "outputs": [],
   "source": [
    "#\n",
    "# Use this cell to figure out your answer\n",
    "#\n",
    "import pandas as pd\n",
    "#\n",
    "# My stuff below\n",
    "#\n",
    "thyroid_df = pd.read_csv(\"thyroid.csv\")"
   ]
  },
  {
   "cell_type": "markdown",
   "id": "5be86e92",
   "metadata": {},
   "source": [
    "*Use the cell below to submit your answer. Change the string `my_key` to your assessment key, and set the parameter `my_dataframe` to the variable referencing your dataframe*\n",
    "\n",
    "*If you run the cell with `submit=False`, then your result will **not** be stored in the assessments database. When you are ready, change this to `submit=True` and re-run the cell*"
   ]
  },
  {
   "cell_type": "code",
   "execution_count": null,
   "id": "401232f6",
   "metadata": {},
   "outputs": [],
   "source": [
    "#\n",
    "# Run this cell to submit your answer\n",
    "#\n",
    "sf.check_my_dataframe(my_key=\"my_key\", my_dataframe=None, submit=False)"
   ]
  },
  {
   "cell_type": "markdown",
   "id": "2ef10349",
   "metadata": {},
   "source": [
    "## Question 2\n",
    "\n",
    "### Create a dictionary from a .csv\n",
    "\n",
    "The `outcome` column in `thyroid.csv` is a code which gives the diagnosis condition for each observation (i.e. row). The data set `thyroid_outcomes.csv` contains a textual explanation of each coded condition.\n",
    "\n",
    "*Create a Python dictionary object, from `thyroid_outcomes.csv`, which can be used to look up the textual explanation of each coded condition. I.e. the `key` of each dictionary item will be the code, and the `value` will be the textual explanation*\n",
    "\n",
    "HINT: It's easiest to use Pandas to load the data into a dataframe, and then create the dictionary from this.\n",
    "\n",
    "You can use the next cell to work out your answer, and the cell below that to submit it"
   ]
  },
  {
   "cell_type": "code",
   "execution_count": null,
   "id": "14c3948a",
   "metadata": {},
   "outputs": [],
   "source": [
    "#\n",
    "# Use this cell to figure out your answer\n",
    "#\n",
    "import pandas as pd\n",
    "thyroid_outcomes_df = pd.read_csv(\"thyroid_outcomes.csv\")\n",
    "my_dictionary_variable = dict(zip(list(thyroid_outcomes_df.loc[:,\"outcome\"]), list(thyroid_outcomes_df.loc[:,\"outcome_description\"])))"
   ]
  },
  {
   "cell_type": "markdown",
   "id": "090e54e0",
   "metadata": {},
   "source": [
    "*Use the cell below to submit your answer. Change the string `my_key` to your assessment key, and set the argument `my_dictionary` to the variable referencing your dataframe. Change `submit=False` to `submit=True` to save your score*"
   ]
  },
  {
   "cell_type": "code",
   "execution_count": null,
   "id": "f1abdae9",
   "metadata": {},
   "outputs": [],
   "source": [
    "#\n",
    "# Run this cell to submit your answer\n",
    "#\n",
    "sf.check_my_dictionary(my_key=\"my_key\", my_dictionary=None, submit=False)"
   ]
  },
  {
   "cell_type": "markdown",
   "id": "d88ad3c7",
   "metadata": {},
   "source": [
    "## Question 3\n",
    "\n",
    "### Summarise the `outcome` column in `thyroid.csv`\n",
    "\n",
    "*Add a new column to a dataframe loaded from `thyroid_outcomes.csv`, called `count`. The new column should contain the count of the number of rows in `thyroid.csv`,  with that `outcome` code*\n",
    "\n",
    "\n",
    "HINT: It's quite likely that `thyroid.csv` does not contain at all `outcome` codes, since it is a quite severe subset of the original dataset. In these cases, the corresponding value in the new `count` column should be `0` \n",
    "\n",
    "You can use the next cell to work out your answer, and the cell below that to submit it"
   ]
  },
  {
   "cell_type": "code",
   "execution_count": null,
   "id": "6e604780",
   "metadata": {},
   "outputs": [],
   "source": [
    "#\n",
    "# Use this cell to figure out your answer\n",
    "#\n",
    "# My stuff\n",
    "#\n",
    "import pandas as pd\n",
    "thyroid_df          = pd.read_csv(\"thyroid.csv\")\n",
    "thyroid_outcomes_df = pd.read_csv(\"thyroid_outcomes.csv\")\n",
    "#   \n",
    "outcome_counts_se   = thyroid_df.groupby([\"outcome\"])[\"outcome\"].count()\n",
    "thyroid_outcomes_df = thyroid_outcomes_df.merge(outcome_counts_se, how=\"left\", \n",
    "                                                left_on='outcome', right_index=True)\n",
    "#\n",
    "thyroid_outcomes_df.columns  = [\"outcome\", \"outcome_description\", \"count\"]\n",
    "thyroid_outcomes_df[\"count\"] = thyroid_outcomes_df[\"count\"].fillna(0)\n",
    "thyroid_outcomes_df"
   ]
  },
  {
   "cell_type": "markdown",
   "id": "7e03f9d4",
   "metadata": {},
   "source": [
    "*Use the cell below to submit your answer. Change the string `my_key` to your assessment key, and set the argument  `my_outcome_counts_df` to the variable referencing your dataframe. Change `submit=False` to `submit=True` to save your score*"
   ]
  },
  {
   "cell_type": "code",
   "execution_count": null,
   "id": "f07acfdb",
   "metadata": {},
   "outputs": [],
   "source": [
    "#\n",
    "# Run this cell to submit your answer\n",
    "#\n",
    "sf.check_outcome_counts(my_key=\"my_key\", my_outcome_counts_df=None, submit=False)"
   ]
  },
  {
   "cell_type": "markdown",
   "id": "1daf36ec",
   "metadata": {},
   "source": [
    "## Question 4\n",
    "\n",
    "### Write a function to perform `mean imputation`\n",
    "\n",
    "In `thyroid.csv`, question marks (`?`) are used to denote missing values, both in columns used to hold numeric values (e.g. `TSH`, `T3`, `TT4`, `T4U`, `FTI`, `TBG` - measures of hormones and related substances), and string (categorical) values (e.g. `sex`, `on_thyroxine`, `query_on_thyroxine`, `on_antithyroid_medication`, `sick`, `pregnant`, `thyroid_surgery`, `I131_treatment`)\n",
    "\n",
    "The objective of this question is to write a function that performs a simple form of **imputation** on the numeric columns in `thyroid.csv`\n",
    "\n",
    "*Define a function that takes as an argument any column from a Pandas dataframe loaded from `thyroid.csv`, that is used to hold numeric values, e.g. `thyroid_df[\"FTI\"]`. Note that a column specified in this way is a Pandas Series*\n",
    "\n",
    "*Your function should make a copy of the column and replace any `?`'s with the **mean** of all the non `?` values, rounded to 2 decimal places. It should **return** a Pandas Series with a `dtype` (i.e. data type) of `float64`*\n",
    "\n",
    "HINT: Import the `copy` module and use `copy.deepcopy()` to make a copy of your function's argument\n",
    "\n",
    "HINT: `pd.Series([5, 6, 7], dtype=\"float64\")` is one way of forcing a `dtype` of `float64` in a Series\n",
    "\n",
    "*For some **bonus marks**, write your function so that you can run it with a column argument that is not a numeric column (i.e. contains data other than numbers and `?`). In this case your function should return a Series of `float64` zeros*\n",
    "\n",
    "HINT: You can use `try:` and `except:` blocks to help with this\n",
    "\n",
    "*For some **further bonus marks**, write your function so that if you run it with a column argument that is all `?`'s, it will return a Series of `float64` zeros*\n",
    "\n",
    "HINT: You can use `math.isnan` from the `math` module to check if your calculated mean is `NaN`\n",
    "\n",
    "You can use the next cell to define and test your function, and the cell below that to submit it"
   ]
  },
  {
   "cell_type": "code",
   "execution_count": null,
   "id": "7c68d048",
   "metadata": {},
   "outputs": [],
   "source": [
    "#\n",
    "# Use this cell to define and test your function\n",
    "#\n",
    "#\n",
    "# My stuff\n",
    "#\n",
    "# EiYF1vIRV0X5\n",
    "#\n",
    "import math\n",
    "import pandas as pd\n",
    "import copy\n",
    "#\n",
    "def mean_impute(series_in):\n",
    "    #\n",
    "    # This is mean_impute()\n",
    "    #\n",
    "    col_mean = None\n",
    "    a_series = copy.deepcopy(series_in)\n",
    "    try:\n",
    "        col_mean = round(pd.Series(a_series[a_series != \"?\"], dtype=\"float64\").mean(), 2)\n",
    "    except:\n",
    "        return pd.Series([0] * a_series.size, dtype=\"float64\")\n",
    "    #\n",
    "    if math.isnan(col_mean):\n",
    "        return pd.Series([0] * a_series.size, dtype=\"float64\")\n",
    "    #\n",
    "    a_series[a_series == \"?\"] = str(col_mean)\n",
    "    #a_series[a_series == \"?\"] = str(20.4)\n",
    "    #\n",
    "    return a_series.astype(\"float64\")\n",
    "#\n",
    "#\n",
    "#print(list(mean_impute(thyroid_df[\"FTI\"])))\n",
    "#age, TSH\tT3\tTT4\tT4U\tFTI\tTBG\n",
    "#print(list(mean_impute(thyroid_df[\"tumor\"])))\n",
    "#print(list(bleep))\n",
    "#\n",
    "print(list(mean_impute(pd.Series([\"?\",\"?\"]))))"
   ]
  },
  {
   "cell_type": "markdown",
   "id": "84c285d1",
   "metadata": {},
   "source": [
    "*Use the cell below to submit your answer. Change the string `my_key` to your assessment key, and set the argument  `my_mean_function` to the name of your function. Change `submit=False` to `submit=True` to save your score*"
   ]
  },
  {
   "cell_type": "code",
   "execution_count": null,
   "id": "af737504",
   "metadata": {},
   "outputs": [],
   "source": [
    "sf.check_my_mean_function(my_key=\"my_key\", my_mean_function=None, submit=False)"
   ]
  },
  {
   "cell_type": "markdown",
   "id": "bb453123",
   "metadata": {},
   "source": [
    "## Question 5\n",
    "\n",
    "### Obtain summary statistics of numeric columns\n",
    "\n",
    "This question uses a version of `thyroid.csv` that has had **mean imputation** applied to the numeric columns. You can get a copy of this data in a Pandas dataframe by running the function `get_imputed_df()` as given in the next cell.\n",
    "\n",
    "*There is a Pandas function that produces a set of summary statistics from dataframes. Find out what this function is, and run it on the imputed dataframe, to create a new dataframe summarising the `numeric` columns only*\n",
    "\n",
    "*Round the values in the summary statistics dataframe to 4 decimal places*\n",
    "\n",
    "Use the next cell to get the dataframe, and work out your answer"
   ]
  },
  {
   "cell_type": "code",
   "execution_count": null,
   "id": "490f2d40",
   "metadata": {},
   "outputs": [],
   "source": [
    "#\n",
    "# Use this cell to figure out your answer\n",
    "#\n",
    "# Run the next line to get the data\n",
    "#\n",
    "imputed_df = sf.get_imputed_df()\n",
    "# \n",
    "# My stuff below\n",
    "#\n",
    "summary_stats_df = round(imputed_df.describe(), 4)\n",
    "summary_stats_df"
   ]
  },
  {
   "cell_type": "markdown",
   "id": "feec1fb3",
   "metadata": {},
   "source": [
    "*Use the cell below to submit your answer. Change the string `my_key` to your assessment key, and set the argument  `my_summary_stats` to refer to your dataframe. Change `submit=False` to `submit=True` to save your score*"
   ]
  },
  {
   "cell_type": "code",
   "execution_count": null,
   "id": "915c0387",
   "metadata": {},
   "outputs": [],
   "source": [
    "#\n",
    "# Run this cell to submit your answer\n",
    "#\n",
    "sf.check_summary_stats(my_key=\"my_key\", my_summary_stats_df=summary_stats_df, submit=True)"
   ]
  },
  {
   "cell_type": "markdown",
   "id": "53989f25",
   "metadata": {},
   "source": [
    "## Question 6\n",
    "\n",
    "### Obtain frequency distributions of categorical columns\n",
    "\n",
    "*The objective of this question is to build a Python dictionary containing the frequency distributions of the **categorical** columns of `thyroid.csv`*\n",
    "\n",
    "*Each dictionary entry `key` should be the column name. Each dictionary entry `value` should be **another dictionary** containing the frequency distribution of the catagorical column*\n",
    "\n",
    "*Each \"inner\" dictionary should have as its `key` a categorical value (or \"label\"), and its `value` should be the corresponding frequency count. E.g. the dictionary for `sex` would be in this format `'sex': {'F': 294, 'M': 126, '?': 16}`\n",
    "\n",
    "HINT: These are the numeric columns `[\"age\", \"TSH\", \"T3\", \"TT4\", \"T4U\", \"FTI\", \"TBG\"]`, the remainder are categorical\n",
    "\n",
    "HINT: `pandas.Series.value_counts()` is a useful function for getting a frequency distribution from a dataframe column\n",
    "\n",
    "Use the cell below to  work out your answer"
   ]
  },
  {
   "cell_type": "code",
   "execution_count": null,
   "id": "642ac0a8",
   "metadata": {},
   "outputs": [],
   "source": [
    "#\n",
    "# Use this cell to figure out your answer\n",
    "#\n",
    "# My stuff\n",
    "#\n",
    "import pandas as pd\n",
    "thyroid_df = pd.read_csv(\"thyroid.csv\")\n",
    "#\n",
    "#num_cols = [\"age\", \"TSH\", \"T3\", \"TT4\", \"T4U\", \"FTI\", \"TBG\"]\n",
    "num_cols = [\"age\", \"T3\", \"TT4\", \"T4U\", \"FTI\", \"TBG\"]\n",
    "all_cols   = list(thyroid_df.columns)\n",
    "cat_cols   = list(set(all_cols) - set(num_cols))\n",
    "#\n",
    "freqs_dict = {}\n",
    "#\n",
    "for cat_col in cat_cols:\n",
    "    col_freq            = thyroid_df[cat_col].value_counts()\n",
    "    freqs_dict[cat_col] = dict(zip(col_freq.index.tolist(), col_freq.tolist()))\n",
    "#\n",
    "#freqs_dict"
   ]
  },
  {
   "cell_type": "markdown",
   "id": "a7aa25dc",
   "metadata": {},
   "source": [
    "*Use the cell below to submit your answer. Change the string `my_key` to your assessment key, and set the argument  `my_summary_stats` to refer to your dataframe. Change `submit=False` to `submit=True` to save your score*"
   ]
  },
  {
   "cell_type": "code",
   "execution_count": null,
   "id": "a96073de",
   "metadata": {},
   "outputs": [],
   "source": [
    "#\n",
    "# Run this cell to submit your answer\n",
    "#\n",
    "sf.check_frequency_dists(my_key=\"my_key\", my_frequency_dict=freqs_dict, submit=True)"
   ]
  },
  {
   "cell_type": "markdown",
   "id": "a7cd7931",
   "metadata": {},
   "source": [
    "## Question 7\n",
    "\n",
    "### Class for thyroid.csv outcomes\n",
    "\n",
    "*The objective of this question is to build a Python dictionary containing a `key` for each `outcome` code present in `thyroid.csv`*\n",
    "\n",
    "*Each dictionary entry `value` should be an object from the class `Outcome`, as given in the cell below*\n",
    "\n",
    "*You can see from the code that the `Outcome` class contains the `outcome` code, the `outcome` description (which you can get from `thyroid_outcomes.csv`), and a dataframe formed from all observations in `thyroid.csv` with that `outcome`*\n",
    "\n",
    "*Each dataframe within an `Outcome` object must contain observations in the same sequence as they occur in `thyroid.csv`*\n",
    "\n",
    "HINT: `outcome_subset_df = thyroid_df.loc[thyroid_df[\"outcome\"] == \"-\"]` creates a dataframe containing only those observations in a dataframe loaded from `thyroid.csv`, with an outcome code of `-` \n",
    "\n",
    "HINT: `thyroid_outcomes_df.loc[thyroid_outcomes_df[\"outcome\"] == \"-\", \"outcome_description\"].values[0]` fetches the `outcome_description` from a dataframe loaded from `thyroid_outcomes.csv`, with an outcome code of `-`\n",
    "\n",
    "Run the cell below to create the class"
   ]
  },
  {
   "cell_type": "code",
   "execution_count": null,
   "id": "797cb06a",
   "metadata": {},
   "outputs": [],
   "source": [
    "#\n",
    "# Class for thyroid outcomes\n",
    "#\n",
    "class Outcome:\n",
    "    #\n",
    "    # Constructor function\n",
    "    #\n",
    "    def __init__(self, outcome_code, obs_df, outcome_desc): \n",
    "        #\n",
    "        # Store data in the new object\n",
    "        #\n",
    "        self.outcome_code = outcome_code\n",
    "        self.outcome_desc = outcome_desc\n",
    "        self.obs_df       = obs_df\n",
    "        #\n",
    "    #\n",
    "    #\n",
    "    def mean_age(self):\n",
    "        #\n",
    "        # Return the mean age of observations belonging to an outcome\n",
    "        #\n",
    "        return round(self.obs_df[\"age\"].mean(), 2)\n",
    "        #\n",
    "    #\n",
    "    #\n",
    "#\n",
    "#"
   ]
  },
  {
   "cell_type": "markdown",
   "id": "f63ef308",
   "metadata": {},
   "source": [
    "Use the cell below to work out your answer"
   ]
  },
  {
   "cell_type": "code",
   "execution_count": null,
   "id": "94035d58",
   "metadata": {},
   "outputs": [],
   "source": [
    "#\n",
    "# Use this cell to work out your answer\n",
    "#\n",
    "# My stuff follows\n",
    "#\n",
    "import pandas as pd\n",
    "# Need to get name .loc[a:b] i think\n",
    "#\n",
    "thyroid_df = pd.read_csv(\"thyroid.csv\")\n",
    "thyroid_outcomes_df = pd.read_csv(\"thyroid_outcomes.csv\")\n",
    "outcomes_list = list(thyroid_df.outcome.unique())\n",
    "outcomes_dict = {}\n",
    "for outcome in outcomes_list:\n",
    "    outcome_df   = thyroid_df.loc[thyroid_df[\"outcome\"] == outcome]\n",
    "    outcome_desc = thyroid_outcomes_df.loc[thyroid_outcomes_df[\"outcome\"] == outcome, \"outcome_description\"].values[0]\n",
    "    outcomes_dict[outcome] = Outcome(outcome, outcome_df, outcome_desc) \n",
    "    #print(outcomes_dict[outcome].outcome_desc)                               \n",
    "    #print(outcomes_dict[outcome].mean_age())\n",
    "    #\n",
    "#\n",
    "outcomes_dict[\"-\"].obs_df = None"
   ]
  },
  {
   "cell_type": "markdown",
   "id": "eae13e1d",
   "metadata": {},
   "source": [
    "Use the cell below to submit your answer. Change the string `my_key` to your assessment key, and set the argument `my_outcomes_dict` to refer to your dictionary. Change `submit=False` to `submit=True` to save your score"
   ]
  },
  {
   "cell_type": "code",
   "execution_count": null,
   "id": "3b23444c",
   "metadata": {},
   "outputs": [],
   "source": [
    "sf.check_outcomes_dict(my_key=\"my_key\", my_outcomes_dict=outcomes_dict, submit=False)"
   ]
  },
  {
   "cell_type": "code",
   "execution_count": null,
   "id": "4c0725cb",
   "metadata": {},
   "outputs": [],
   "source": []
  },
  {
   "cell_type": "code",
   "execution_count": null,
   "id": "c3ac0a05",
   "metadata": {},
   "outputs": [],
   "source": []
  },
  {
   "cell_type": "code",
   "execution_count": null,
   "id": "64335039",
   "metadata": {},
   "outputs": [],
   "source": []
  },
  {
   "cell_type": "markdown",
   "id": "74438842",
   "metadata": {},
   "source": [
    "## Submit and end\n",
    "\n",
    "Please run the following cell to do the overall submission for this assessment exam\n",
    "\n",
    "*Change the string `my_key` to your assessment key, and run the cell*"
   ]
  },
  {
   "cell_type": "code",
   "execution_count": null,
   "id": "41fedaec",
   "metadata": {},
   "outputs": [],
   "source": [
    "sf.overall_submission(my_key=\"my_key\")"
   ]
  }
 ],
 "metadata": {
  "kernelspec": {
   "display_name": "Python 3 (ipykernel)",
   "language": "python",
   "name": "python3"
  },
  "language_info": {
   "codemirror_mode": {
    "name": "ipython",
    "version": 3
   },
   "file_extension": ".py",
   "mimetype": "text/x-python",
   "name": "python",
   "nbconvert_exporter": "python",
   "pygments_lexer": "ipython3",
   "version": "3.7.13"
  }
 },
 "nbformat": 4,
 "nbformat_minor": 5
}
