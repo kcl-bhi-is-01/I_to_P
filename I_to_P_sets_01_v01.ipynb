{
 "cells": [
  {
   "cell_type": "markdown",
   "id": "768272ba",
   "metadata": {},
   "source": [
    "# Sets\n",
    "\n",
    "\n",
    "In Python `sets` are collection data types, which support set operations such as `union`, `intersection` and `difference`. Sets are *unordered* and enforce *unique values*\n",
    "\n",
    "In this notebook we examine some qualities of sets"
   ]
  },
  {
   "cell_type": "code",
   "execution_count": null,
   "id": "06b087d6",
   "metadata": {},
   "outputs": [],
   "source": [
    "#\n",
    "# This cell imports functions that are used later on\n",
    "#\n",
    "!wget -nv https://github.com/kcl-bhi-is-01/I_to_P_anc/raw/main/I_to_P_sets_01_v01.py\n",
    "import I_to_P_sets_01_v01 as se"
   ]
  },
  {
   "cell_type": "markdown",
   "id": "fe7079e9",
   "metadata": {},
   "source": [
    "Here, we create and display some sets:"
   ]
  },
  {
   "cell_type": "code",
   "execution_count": null,
   "id": "eb35ca91",
   "metadata": {},
   "outputs": [],
   "source": [
    "#\n",
    "# Set creation\n",
    "#\n",
    "my_set = {1, 1, 1, 1, -14.6, True, 2, \"c\", 3, 0, False, 20.6, \"a\", 67.1}\n",
    "print(\"my_set created with {}:\")\n",
    "print(my_set)\n",
    "#\n",
    "my_set = set([1, 1, 1, 1, -14.6, True, 2, \"c\", 3, 0, False, 20.6, \"a\", 67.1])\n",
    "print()\n",
    "print(\"my_set created with set():\")\n",
    "print(my_set)\n",
    "#\n",
    "print()\n",
    "print(\"Iterate over set:\")\n",
    "for s in my_set:\n",
    "    print(s)\n",
    "#\n",
    "boolean_set = {True, True, False, True, False}\n",
    "print()\n",
    "print(\"boolean_set:\")\n",
    "print(boolean_set)\n",
    "#\n",
    "char_set = set(\"Merry Christmas\")\n",
    "print()\n",
    "print(\"char_set:\")\n",
    "print(char_set)\n",
    "#\n",
    "string_set = {\"Merry Christmas\"}\n",
    "print()\n",
    "print(\"string_set:\")\n",
    "print(string_set)"
   ]
  },
  {
   "cell_type": "markdown",
   "id": "485f9d68",
   "metadata": {},
   "source": [
    "Now we create 2 sets to use in a quiz in the following cells:"
   ]
  },
  {
   "cell_type": "code",
   "execution_count": null,
   "id": "fd1abea2",
   "metadata": {},
   "outputs": [],
   "source": [
    "#\n",
    "# Create sets\n",
    "#\n",
    "set_1 = {\"mary\", \"had\", \"a\", \"little\", \"lamb\", \"its\", \"fleece\", \"was\", \"white\", \"as\", \"snow\"}\n",
    "set_2 = {\"and\", \"everywhere\", \"that\", \"mary\", \"went\", \"the\", \"lamb\", \"was\", \"sure\", \"to\", \"go\"}"
   ]
  },
  {
   "cell_type": "markdown",
   "id": "9999f00f",
   "metadata": {},
   "source": [
    "*Can you write the Python code to obtain the `intersection` and `union` of the two sets created in the following cell, and a set containing the words that are in `set_1` but not in `set_2`?*"
   ]
  },
  {
   "cell_type": "code",
   "execution_count": null,
   "id": "fa8ecab7",
   "metadata": {},
   "outputs": [],
   "source": [
    "#\n",
    "# Figure out your answer here. Assign your intersection, union and difference sets to 3 variables\n",
    "#"
   ]
  },
  {
   "cell_type": "markdown",
   "id": "18cd5094",
   "metadata": {},
   "source": [
    "You can check your results by changing the variables `your_intersection`, `your_union`, and `your_difference`, in the function call in the cell below, to the variable names you have used. Then run the cell."
   ]
  },
  {
   "cell_type": "code",
   "execution_count": null,
   "id": "88c60784",
   "metadata": {},
   "outputs": [],
   "source": [
    "#\n",
    "# Run this cell to check the results of your set operations\n",
    "#\n",
    "se.check_set_ops(your_intersection, your_union, your_difference, set_1, set_2)\n",
    "#"
   ]
  }
 ],
 "metadata": {
  "kernelspec": {
   "display_name": "Python 3 (ipykernel)",
   "language": "python",
   "name": "python3"
  },
  "language_info": {
   "codemirror_mode": {
    "name": "ipython",
    "version": 3
   },
   "file_extension": ".py",
   "mimetype": "text/x-python",
   "name": "python",
   "nbconvert_exporter": "python",
   "pygments_lexer": "ipython3",
   "version": "3.7.13"
  }
 },
 "nbformat": 4,
 "nbformat_minor": 5
}
