{
 "cells": [
  {
   "cell_type": "markdown",
   "id": "768272ba",
   "metadata": {},
   "source": [
    "# Pandas Selection\n",
    "\n",
    "Pandas selection can be confusing because there are lots of ways of doing things. Key things to remember are:<br>\n",
    "\n",
    "- Use `.iloc` (selection by column or row number) and `.loc` (selection by column or row name) whenever you can\n",
    "<br><br>\n",
    "- `.iloc` and `.loc` use a syntax in the form `[<row selection> , <column selection>]`, where either `<row selection>` or `<column selection>` may be omitted, meaning \"select all\"\n",
    "<br><br>\n",
    "- You can use `:` in `<row selection>` and `<column selection>` to obtain a `slice` of rows and columns\n",
    "<br><br>\n",
    "- You can think of a Pandas `Series` as equivalent to a dataframe column, or a vector where all elements have the same data type\n"
   ]
  },
  {
   "cell_type": "code",
   "execution_count": null,
   "id": "06b087d6",
   "metadata": {},
   "outputs": [],
   "source": [
    "#\n",
    "# This cell imports data and functions that are used later on\n",
    "#\n",
    "!wget -nv https://github.com/kcl-bhi-is-01/datasets/raw/main/children_autism.csv\n",
    "!wget -nv https://github.com/kcl-bhi-is-01/I_to_P_anc/raw/main/I_to_P_pandas_02_v01.pyc\n",
    "import I_to_P_pandas_02_v01 as p2"
   ]
  },
  {
   "cell_type": "markdown",
   "id": "0fdb7789",
   "metadata": {},
   "source": [
    "We use dataset `children_autism.csv`(*thanks to Fadi Fayez Thabtah, Department of Digital Technology, Manukau Institute of Technology, Auckland, New Zealand*)"
   ]
  },
  {
   "cell_type": "code",
   "execution_count": null,
   "id": "cd463bce",
   "metadata": {},
   "outputs": [],
   "source": [
    "#\n",
    "# Read children_autism.csv\n",
    "#\n",
    "import pandas as pd\n",
    "pd.options.display.max_rows = None\n",
    "#\n",
    "asd_df = pd.read_csv(\"children_autism.csv\")\n",
    "asd_df\n",
    "#"
   ]
  },
  {
   "cell_type": "markdown",
   "id": "c27da44b",
   "metadata": {},
   "source": [
    "In the cell below, we use `.loc` to select all the question answers for the 1st 10 rows in `asd_df`\n",
    "\n",
    "*Why do you think we can apparently specify row **numbers** with `.loc`?*"
   ]
  },
  {
   "cell_type": "code",
   "execution_count": null,
   "id": "e47eaf0e",
   "metadata": {},
   "outputs": [],
   "source": [
    "#\n",
    "# Dataframe subset using loc\n",
    "#\n",
    "subset_1_df = asd_df.loc[0:9, \"q1\":\"q10\"]\n",
    "subset_1_df"
   ]
  },
  {
   "cell_type": "markdown",
   "id": "084f46b4",
   "metadata": {},
   "source": [
    "In the following cell, we use `.loc` to perform conditional selection on rows and use a slice to obtain all the columns except those concerned with question scores"
   ]
  },
  {
   "cell_type": "code",
   "execution_count": null,
   "id": "aa5e3440",
   "metadata": {},
   "outputs": [],
   "source": [
    "subset_2_df = asd_df.loc[(asd_df.age > 5) & (asd_df.relation == \"?\"), \"asd\":\"relation\"]\n",
    "subset_2_df"
   ]
  },
  {
   "cell_type": "markdown",
   "id": "15338aed",
   "metadata": {},
   "source": [
    "*Can you produce a subset of `asd_df`, of all female children with a history of development disorders in the family, excluding the individual question score columns?*\n",
    "\n",
    "*You can work out your answer in the following cell, then get it checked in the cell below that*"
   ]
  },
  {
   "cell_type": "code",
   "execution_count": null,
   "id": "f307dbe3",
   "metadata": {},
   "outputs": [],
   "source": [
    "#\n",
    "# Use this cell to figure out your answer\n",
    "#"
   ]
  },
  {
   "cell_type": "markdown",
   "id": "429a1dbd",
   "metadata": {},
   "source": [
    "*Replace `your_subset_df` with the variable name of the dataframe containing your answer, then run the cell*"
   ]
  },
  {
   "cell_type": "code",
   "execution_count": null,
   "id": "adf91bd0",
   "metadata": {},
   "outputs": [],
   "source": [
    "#\n",
    "# Put your answer in the function call, then run this cell\n",
    "#\n",
    "p2.check_df_subset(asd_df, your_subset_df)\n",
    "#"
   ]
  }
 ],
 "metadata": {
  "kernelspec": {
   "display_name": "Python 3 (ipykernel)",
   "language": "python",
   "name": "python3"
  },
  "language_info": {
   "codemirror_mode": {
    "name": "ipython",
    "version": 3
   },
   "file_extension": ".py",
   "mimetype": "text/x-python",
   "name": "python",
   "nbconvert_exporter": "python",
   "pygments_lexer": "ipython3",
   "version": "3.7.13"
  }
 },
 "nbformat": 4,
 "nbformat_minor": 5
}
