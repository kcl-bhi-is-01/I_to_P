{
 "cells": [
  {
   "cell_type": "markdown",
   "id": "92922988",
   "metadata": {},
   "source": [
    "# Introduction to Python for Health Research\n",
    "\n",
    "# Assessment\n",
    "\n",
    "## How this assessment works\n",
    "\n",
    "This assessment consists of 10 questions, each of which is delivered in a sequence of notebook cells. Each question requires you to write some Python code to solve a problem, and you can create as many new cells as you like to help you work out the answer. You may find it useful to have some paper and a pen to hand, in order to help you work out the answers, and you may find it helpful to look things up on the Internet<br><br> \n",
    "\n",
    "For each question, there is a cell that you need to run in order to submit your answer. You can submit an answer as many times as you want, and the score will be saved<br><br>\n",
    "\n",
    "You can restart this assessment any time you like, simply by launching it from the Moodle page. The results of all questions you have answered already will have been saved. Be aware that each time you restart this assessment, you will get a different version of the data you are required to solve problems with<br><br>\n",
    "\n",
    "In order to close the assessment and submit your overall result, you must run the final cell given in this notebook<br><br>\n",
    "\n",
    "**Important:** In order to run save the result of each question you will need to enter your `assessment key`. This is displayed to you when you click on the *Click here to start a new attempt and get your assessment key*, on the Moodle page \n",
    "\n",
    "**If you have not already obtained an assessment key please quit this script now, return to the Moodle page and request one**<br><br>"
   ]
  },
  {
   "cell_type": "markdown",
   "id": "48627caa",
   "metadata": {},
   "source": [
    "Please start by running the next cell:"
   ]
  },
  {
   "cell_type": "code",
   "execution_count": null,
   "id": "06b087d6",
   "metadata": {},
   "outputs": [],
   "source": [
    "#\n",
    "# This cell imports data and functions that are used later on\n",
    "#\n",
    "!wget -nv https://github.com/kcl-bhi-is-01/I_to_P_anc/raw/main/I_to_P_supp_funcs_v05.pyc\n",
    "import I_to_P_supp_funcs_v05 as sf"
   ]
  },
  {
   "cell_type": "markdown",
   "id": "1d5f0d59",
   "metadata": {},
   "source": [
    "You can use the function call in the following cell to check your progress in this assessment examination\n",
    "\n",
    "In the cell, replace the string `my_key`, with the assessment key you obtained earlier from the Moodle page. If you have not already obtained an assessment key please quit this script now, return to the Moodle page and request one\n",
    "\n",
    "You can run `sf.check_my_progress(my_key=\"my_key\")` whenever you like"
   ]
  },
  {
   "cell_type": "code",
   "execution_count": null,
   "id": "47c4820e",
   "metadata": {},
   "outputs": [],
   "source": [
    "#\n",
    "# Run this cell to check your progress\n",
    "#\n",
    "sf.check_my_progress(my_key=\"my_key\")\n",
    "#"
   ]
  },
  {
   "cell_type": "markdown",
   "id": "0bcdf8ca",
   "metadata": {},
   "source": [
    "## Question 1 \n",
    "\n",
    "### Read a .csv with Pandas\n",
    "\n",
    "A subset of a (manicured) Thyroid condition diagnosis dataset *(Thanks to Ross Quinlan, Garavan Institute, Sydney, Australia)* is available in `thyroid.csv`\n",
    "\n",
    "*Use the Pandas package to read this dataset into a dataframe variable*\n",
    "\n",
    "You can use the next cell to work out your answer, and the cell below that to submit it"
   ]
  },
  {
   "cell_type": "code",
   "execution_count": null,
   "id": "72ef7f42",
   "metadata": {},
   "outputs": [],
   "source": [
    "#\n",
    "# Use this cell to figure out your answer\n",
    "#"
   ]
  },
  {
   "cell_type": "markdown",
   "id": "5be86e92",
   "metadata": {},
   "source": [
    "*Use the cell below to submit your answer. Change the string `my_key` to your assessment key, and set the parameter `my_dataframe` to the variable referencing your dataframe*\n",
    "\n",
    "*If you run the cell with `submit=False`, then your result will **not** be stored in the assessments database. When you are ready, change this to `submit=True` and re-run the cell*"
   ]
  },
  {
   "cell_type": "code",
   "execution_count": null,
   "id": "401232f6",
   "metadata": {},
   "outputs": [],
   "source": [
    "#\n",
    "# Run this cell to submit your answer\n",
    "#\n",
    "sf.check_my_dataframe(my_key=\"my_key\", my_dataframe=None, submit=False)"
   ]
  },
  {
   "cell_type": "markdown",
   "id": "2ef10349",
   "metadata": {},
   "source": [
    "## Question 2\n",
    "\n",
    "### Create a dictionary from a .csv\n",
    "\n",
    "The `outcome` column in `thyroid.csv` is a code which gives the diagnosis condition for each observation (i.e. row). The data set `thyroid_outcomes.csv` contains a textual explanation of each coded condition.\n",
    "\n",
    "*Create a Python dictionary object, from `thyroid_outcomes.csv`, which can be used to look up the textual explanation of each coded condition. I.e. the `key` of each dictionary item will be the code, and the `value` will be the textual explanation*\n",
    "\n",
    "HINT: It's easiest to use Pandas to load the data into a dataframe, and then create the dictionary from this.\n",
    "\n",
    "You can use the next cell to work out your answer, and the cell below that to submit it"
   ]
  },
  {
   "cell_type": "code",
   "execution_count": null,
   "id": "14c3948a",
   "metadata": {},
   "outputs": [],
   "source": [
    "#\n",
    "# Use this cell to figure out your answer\n",
    "#"
   ]
  },
  {
   "cell_type": "markdown",
   "id": "090e54e0",
   "metadata": {},
   "source": [
    "*Use the cell below to submit your answer. Change the string `my_key` to your assessment key, and set the argument `my_dictionary` to the variable referencing your dataframe. Change `submit=False` to `submit=True` to save your score*"
   ]
  },
  {
   "cell_type": "code",
   "execution_count": null,
   "id": "f1abdae9",
   "metadata": {},
   "outputs": [],
   "source": [
    "#\n",
    "# Run this cell to submit your answer\n",
    "#\n",
    "sf.check_my_dictionary(my_key=\"my_key\", my_dictionary=None, submit=False)"
   ]
  },
  {
   "cell_type": "markdown",
   "id": "d88ad3c7",
   "metadata": {},
   "source": [
    "## Question 3\n",
    "\n",
    "### Summarise the `outcome` column in `thyroid.csv`\n",
    "\n",
    "*Add a new column to a dataframe loaded from `thyroid_outcomes.csv`, called `count`. The new column should contain the count of the number of rows in `thyroid.csv`,  with that `outcome` code*\n",
    "\n",
    "*You should ensure that the new column, `count`, has a `dtype` of `int64`. This can be done with `thyroid_outcomes_df = thyroid_outcomes_df.astype({\"count\": int})` (where `thyroid_outcomes_df` is your data frame)* \n",
    "\n",
    "\n",
    "HINT: It's quite likely that `thyroid.csv` does not contain at all `outcome` codes, since it is a quite severe subset of the original dataset. In these cases, the corresponding value in the new `count` column should be `0` \n",
    "\n",
    "You can use the next cell to work out your answer, and the cell below that to submit it"
   ]
  },
  {
   "cell_type": "code",
   "execution_count": null,
   "id": "6e604780",
   "metadata": {},
   "outputs": [],
   "source": [
    "#\n",
    "# Use this cell to figure out your answer\n",
    "#"
   ]
  },
  {
   "cell_type": "markdown",
   "id": "7e03f9d4",
   "metadata": {},
   "source": [
    "*Use the cell below to submit your answer. Change the string `my_key` to your assessment key, and set the argument  `my_outcome_counts_df` to the variable referencing your dataframe. Change `submit=False` to `submit=True` to save your score*"
   ]
  },
  {
   "cell_type": "code",
   "execution_count": null,
   "id": "f07acfdb",
   "metadata": {},
   "outputs": [],
   "source": [
    "#\n",
    "# Run this cell to submit your answer\n",
    "#\n",
    "sf.check_outcome_counts(my_key=\"my_key\", my_outcome_counts_df=None, submit=False)"
   ]
  },
  {
   "cell_type": "markdown",
   "id": "1daf36ec",
   "metadata": {},
   "source": [
    "## Question 4\n",
    "\n",
    "### Write a function to perform `mean imputation`\n",
    "\n",
    "In `thyroid.csv`, question marks (`?`) are used to denote missing values, both in columns used to hold numeric values (e.g. `TSH`, `T3`, `TT4`, `T4U`, `FTI`, `TBG` - measures of hormones and related substances), and string (categorical) values (e.g. `sex`, `on_thyroxine`, `query_on_thyroxine`, `on_antithyroid_medication`, `sick`, `pregnant`, `thyroid_surgery`, `I131_treatment`)\n",
    "\n",
    "The objective of this question is to write a function that performs a simple form of **imputation** on the numeric columns in `thyroid.csv`\n",
    "\n",
    "*Define a function that takes as an argument any column from a Pandas dataframe loaded from `thyroid.csv`, that is used to hold numeric values, e.g. `thyroid_df[\"FTI\"]`. Note that a column specified in this way is a Pandas Series*\n",
    "\n",
    "*Your function should make a copy of the column and replace any `?`'s with the **mean** of all the non `?` values, rounded to 2 decimal places. It should **return** a Pandas Series with a `dtype` (i.e. data type) of `float64`*\n",
    "\n",
    "HINT: Import the `copy` module and use `copy.deepcopy()` to make a copy of your function's argument\n",
    "\n",
    "HINT: `pd.Series([5, 6, 7], dtype=\"float64\")` is one way of forcing a `dtype` of `float64` in a Series\n",
    "\n",
    "*For some **bonus marks**, write your function so that you can run it with a column argument that is not a numeric column (i.e. contains data other than numbers and `?`). In this case your function should return a Series of `float64` zeros*\n",
    "\n",
    "HINT: You can use `try:` and `except:` blocks to help with this\n",
    "\n",
    "*For some **further bonus marks**, write your function so that if you run it with a column argument that is all `?`'s, it will return a Series of `float64` zeros*\n",
    "\n",
    "HINT: You can use `math.isnan` from the `math` module to check if your calculated mean is `NaN`\n",
    "\n",
    "You can use the next cell to define and test your function, and the cell below that to submit it"
   ]
  },
  {
   "cell_type": "code",
   "execution_count": null,
   "id": "7c68d048",
   "metadata": {},
   "outputs": [],
   "source": [
    "#\n",
    "# Use this cell to define and test your function\n",
    "#"
   ]
  },
  {
   "cell_type": "markdown",
   "id": "84c285d1",
   "metadata": {},
   "source": [
    "*Use the cell below to submit your answer. Change the string `my_key` to your assessment key, and set the argument  `my_mean_function` to the name of your function. Change `submit=False` to `submit=True` to save your score*"
   ]
  },
  {
   "cell_type": "code",
   "execution_count": null,
   "id": "af737504",
   "metadata": {},
   "outputs": [],
   "source": [
    "#\n",
    "# Run this cell to submit your answer\n",
    "#\n",
    "sf.check_my_mean_function(my_key=\"my_key\", my_mean_function=None, submit=False)"
   ]
  },
  {
   "cell_type": "markdown",
   "id": "bb453123",
   "metadata": {},
   "source": [
    "## Question 5\n",
    "\n",
    "### Obtain summary statistics of numeric columns\n",
    "\n",
    "This question uses a version of `thyroid.csv` that has had **mean imputation** applied to the numeric columns. You can get a copy of this data in a Pandas dataframe by running the function `get_imputed_df()` as given in the next cell.\n",
    "\n",
    "*There is a Pandas function that produces a set of summary statistics from dataframes. Find out what this function is, and run it on the imputed dataframe, to create a new dataframe summarising the `numeric` columns only*\n",
    "\n",
    "*Round the values in the summary statistics dataframe to 4 decimal places*\n",
    "\n",
    "Use the next cell to get the dataframe, and work out your answer"
   ]
  },
  {
   "cell_type": "code",
   "execution_count": null,
   "id": "490f2d40",
   "metadata": {},
   "outputs": [],
   "source": [
    "#\n",
    "# Use this cell to figure out your answer\n",
    "#\n",
    "# Run the next line to get the data\n",
    "#\n",
    "imputed_df = sf.get_imputed_df()"
   ]
  },
  {
   "cell_type": "markdown",
   "id": "feec1fb3",
   "metadata": {},
   "source": [
    "*Use the cell below to submit your answer. Change the string `my_key` to your assessment key, and set the argument  `my_summary_stats` to refer to your dataframe. Change `submit=False` to `submit=True` to save your score*"
   ]
  },
  {
   "cell_type": "code",
   "execution_count": null,
   "id": "915c0387",
   "metadata": {},
   "outputs": [],
   "source": [
    "#\n",
    "# Run this cell to submit your answer\n",
    "#\n",
    "sf.check_summary_stats(my_key=\"my_key\", my_summary_stats_df=None, submit=False)"
   ]
  },
  {
   "cell_type": "markdown",
   "id": "53989f25",
   "metadata": {},
   "source": [
    "## Question 6\n",
    "\n",
    "### Obtain frequency distributions of categorical columns\n",
    "\n",
    "*The objective of this question is to build a Python dictionary containing the frequency distributions of the **categorical** columns of `thyroid.csv`*\n",
    "\n",
    "*Each dictionary entry `key` should be the column name. Each dictionary entry `value` should be **another dictionary** containing the frequency distribution of the catagorical column*\n",
    "\n",
    "*Each \"inner\" dictionary should have as its `key` a categorical value (or \"label\"), and its `value` should be the corresponding frequency count. E.g. the dictionary for `sex` would be in this format `'sex': {'F': 294, 'M': 126, '?': 16}`\n",
    "\n",
    "HINT: These are the numeric columns `[\"age\", \"TSH\", \"T3\", \"TT4\", \"T4U\", \"FTI\", \"TBG\"]`, the remainder are categorical\n",
    "\n",
    "HINT: `pandas.Series.value_counts()` is a useful function for getting a frequency distribution from a dataframe column\n",
    "\n",
    "Use the cell below to  work out your answer"
   ]
  },
  {
   "cell_type": "code",
   "execution_count": null,
   "id": "642ac0a8",
   "metadata": {},
   "outputs": [],
   "source": [
    "#\n",
    "# Use this cell to figure out your answer\n",
    "#"
   ]
  },
  {
   "cell_type": "markdown",
   "id": "a7aa25dc",
   "metadata": {},
   "source": [
    "*Use the cell below to submit your answer. Change the string `my_key` to your assessment key, and set the argument  `my_frequency_dict` to refer to your dictionary. Change `submit=False` to `submit=True` to save your score*"
   ]
  },
  {
   "cell_type": "code",
   "execution_count": null,
   "id": "a96073de",
   "metadata": {},
   "outputs": [],
   "source": [
    "#\n",
    "# Run this cell to submit your answer\n",
    "#\n",
    "sf.check_frequency_dists(my_key=\"my_key\", my_frequency_dict=None, submit=True)"
   ]
  },
  {
   "cell_type": "markdown",
   "id": "a7cd7931",
   "metadata": {},
   "source": [
    "## Question 7\n",
    "\n",
    "### Class for thyroid.csv outcomes (1)\n",
    "\n",
    "*The objective of this question is to build a Python dictionary containing a `key` for each `outcome` code present in `thyroid.csv`*\n",
    "\n",
    "*Each dictionary entry `value` should be an object from the class `Outcome`, as given in the cell below*\n",
    "\n",
    "*You can see from the code that the `Outcome` class contains the `outcome` code, the `outcome` description (which you can get from `thyroid_outcomes.csv`), and a dataframe formed from all observations in `thyroid.csv` with that `outcome`*\n",
    "\n",
    "*Each dataframe within an `Outcome` object must contain observations in the same sequence as they occur in `thyroid.csv`*\n",
    "\n",
    "HINT: `outcome_subset_df = thyroid_df.loc[thyroid_df[\"outcome\"] == \"-\"]` creates a dataframe containing only those observations in a dataframe loaded from `thyroid.csv`, with an outcome code of `-` \n",
    "\n",
    "HINT: `thyroid_outcomes_df.loc[thyroid_outcomes_df[\"outcome\"] == \"-\", \"outcome_description\"].values[0]` fetches the `outcome_description` from a dataframe loaded from `thyroid_outcomes.csv`, with an outcome code of `-`\n",
    "\n",
    "Run the cell below to create the class"
   ]
  },
  {
   "cell_type": "code",
   "execution_count": null,
   "id": "797cb06a",
   "metadata": {},
   "outputs": [],
   "source": [
    "#\n",
    "# Class for thyroid outcomes\n",
    "#\n",
    "class Outcome:\n",
    "    #\n",
    "    # Constructor function\n",
    "    #\n",
    "    def __init__(self, outcome_code, obs_df, outcome_desc): \n",
    "        #\n",
    "        # Store data in the new object\n",
    "        #\n",
    "        self.outcome_code = outcome_code\n",
    "        self.outcome_desc = outcome_desc\n",
    "        self.obs_df       = obs_df\n",
    "        #\n",
    "    #\n",
    "    #\n",
    "    def mean_age(self):\n",
    "        #\n",
    "        # Return the mean age of observations belonging to an outcome\n",
    "        #\n",
    "        return round(self.obs_df[\"age\"].mean(), 2)\n",
    "        #\n",
    "    #\n",
    "    #\n",
    "#\n",
    "#"
   ]
  },
  {
   "cell_type": "markdown",
   "id": "f63ef308",
   "metadata": {},
   "source": [
    "Use the cell below to work out your answer"
   ]
  },
  {
   "cell_type": "code",
   "execution_count": null,
   "id": "94035d58",
   "metadata": {},
   "outputs": [],
   "source": [
    "#\n",
    "# Use this cell to work out your answer\n",
    "#"
   ]
  },
  {
   "cell_type": "markdown",
   "id": "eae13e1d",
   "metadata": {},
   "source": [
    "*Use the cell below to submit your answer. Change the string `my_key` to your assessment key, and set the argument `my_outcomes_dict` to refer to your dictionary. Change `submit=False` to `submit=True` to save your score*"
   ]
  },
  {
   "cell_type": "code",
   "execution_count": null,
   "id": "3b23444c",
   "metadata": {},
   "outputs": [],
   "source": [
    "#\n",
    "# Run this cell to submit your answer\n",
    "#\n",
    "sf.check_outcomes_dict(my_key=\"my_key\", my_outcomes_dict=outcomes_dict, submit=False)"
   ]
  },
  {
   "cell_type": "markdown",
   "id": "bcc36e56",
   "metadata": {},
   "source": [
    "## Question 8\n",
    "\n",
    "### Class for thyroid.csv outcomes (2)\n",
    "\n",
    "\n",
    "*The objective of this question is to build a dictionary of tuples, where each `key` is an `outcome` code from `thyroid.csv`*\n",
    "\n",
    "*Each `value` of your dictionary should be a `tuple` containing firstly, the the `outcome` description (which you can get from `thyroid_outcomes.csv`), and secondly, the average `age` of those rows in `thyroid.csv` which belong to the `outcome`*\n",
    "\n",
    "*The average age should be rounded to 2 decimal places*\n",
    "\n",
    "*You can use the `Outcome` class, which is given in the cell below. When you run the cell, you will also obtain a list called `outcome_objects_list`. Each element in this list is an object of class `Outcome` derived from `thyroid.csv`*\n",
    "\n",
    "HINT: If you use `outcome_objects_list`, do you need to read `thyroid.csv` and/or `thyroid_outcomes.csv`?\n",
    "\n",
    "Run the cell below to create the class, and obtain `outcome_objects_list`"
   ]
  },
  {
   "cell_type": "code",
   "execution_count": null,
   "id": "9d1e3195",
   "metadata": {},
   "outputs": [],
   "source": [
    "#\n",
    "# Class for thyroid outcomes\n",
    "#\n",
    "class Outcome:\n",
    "    #\n",
    "    # Constructor function\n",
    "    #\n",
    "    def __init__(self, outcome_code, obs_df, outcome_desc): \n",
    "        #\n",
    "        # Store data in the new object\n",
    "        #\n",
    "        self.outcome_code = outcome_code\n",
    "        self.outcome_desc = outcome_desc\n",
    "        self.obs_df       = obs_df\n",
    "        #\n",
    "    #\n",
    "    #\n",
    "    def mean_age(self):\n",
    "        #\n",
    "        # Return the mean age of observations belonging to an outcome\n",
    "        #\n",
    "        return round(self.obs_df[\"age\"].mean(), 2)\n",
    "        #\n",
    "    #\n",
    "    #\n",
    "#\n",
    "# Get list of Outcome instances\n",
    "#\n",
    "outcome_objects_list = sf.get_outcome_objects_list()"
   ]
  },
  {
   "cell_type": "markdown",
   "id": "2160859c",
   "metadata": {},
   "source": [
    "Use the cell below to figure out out your answer"
   ]
  },
  {
   "cell_type": "code",
   "execution_count": null,
   "id": "4c0725cb",
   "metadata": {},
   "outputs": [],
   "source": [
    "#\n",
    "# Use this cell to work out your answer\n",
    "#"
   ]
  },
  {
   "cell_type": "markdown",
   "id": "aab3ed0c",
   "metadata": {},
   "source": [
    "*Use the cell below to submit your answer. Change the string `my_key` to your assessment key, and set the argument `my_tuples_dict` to refer to your dictionary. Change `submit=False` to `submit=True` to save your score*"
   ]
  },
  {
   "cell_type": "code",
   "execution_count": null,
   "id": "4cc83bee",
   "metadata": {},
   "outputs": [],
   "source": [
    "#\n",
    "# Run this cell to submit your answer\n",
    "#\n",
    "sf.check_tuples_dict(my_key=\"my_key\", my_tuples_dict=None, submit=False)"
   ]
  },
  {
   "cell_type": "markdown",
   "id": "7fa3034a",
   "metadata": {},
   "source": [
    "## Question 9\n",
    "\n",
    "### Selection using boolean operations\n",
    "\n",
    "In health research, when we are working with structured data, we work predominantly with Pandas dataframes. When we are working with less structured data e.g. words making up a chunk of free text, Pandas is used less\n",
    "\n",
    "Although Python has a clear syntax for the evaluation of `Boolean Operations` (i.e. `not`, `and`, `or`) in general, the same syntax cannot be used for applying compound (or multiple) boolean expressions to select rows from Pandas dataframes\n",
    "\n",
    "The following cell illustrates general Python features, plus 2 approachs for Pandas"
   ]
  },
  {
   "cell_type": "code",
   "execution_count": null,
   "id": "d1e0950d",
   "metadata": {},
   "outputs": [],
   "source": [
    "#\n",
    "# 3 approaches for boolean expression evauation\n",
    "#\n",
    "# Python general boolean expressions (i.e Pandas is not involved). Use parentheses to control precedence\n",
    "#\n",
    "temperature      = 22.4\n",
    "wind_speed       = 8\n",
    "rain_probability = 0.25\n",
    "#\n",
    "if (temperature > 13 and wind_speed <= 9) or (temperature > 19 and wind_speed < 14) and rain_probability < 0.3:\n",
    "    print(\"OK for tennis today\")\n",
    "else:\n",
    "    print(\"Not OK for tennis today\")\n",
    "#\n",
    "print()\n",
    "#\n",
    "# Pandas boolean expression #1 - basic. You must put () round each comparison\n",
    "#\n",
    "max_age = 60\n",
    "print(thyroid_df.loc[(thyroid_df[\"outcome\"] != \"-\") & ((thyroid_df[\"sex\"] == \"F\") | (thyroid_df[\"age\"] >= max_age))].head())\n",
    "print()\n",
    "#\n",
    "# Pandas boolean expression #2 - using query(). Care needed with quotes + odd way of citing variables\n",
    "# \n",
    "max_age = 60\n",
    "print(thyroid_df.query(\"outcome != '-' and (sex == 'F' or age >= @max_age)\").head())\n",
    "print()"
   ]
  },
  {
   "cell_type": "markdown",
   "id": "c47ac969",
   "metadata": {},
   "source": [
    "*The objective of this question is to generate 5 subsets of `thyroid.csv` as follows:*\n",
    "\n",
    "*a) Male patients where **all** binary indicators from `on_thyroxine` to `psych` are `f`*\n",
    "\n",
    "*b) Patients under 60 years of age which have `outcome`'s in the range `A` to `J`*\n",
    "\n",
    "*c) Observations with `?` in any column, **excluding** the `TBG` column*\n",
    "\n",
    "*d) Female patients under 60 years of age with `referral_source` = `other`, or Male patients over 65 years of age whose `referral_source` is **not** `other`*\n",
    "\n",
    "*e) Any patient whose `age` is over the **mean + 1 standard devation** of `age` and who has any binary indicator, from `on_thyroxine` to `psych`, set to  `t`*\n",
    "\n",
    "HINT: An advantage of using `query()` is that you can write code to build the query as a string variable\n",
    "\n",
    "Use the cell below to  work out your answer"
   ]
  },
  {
   "cell_type": "code",
   "execution_count": null,
   "id": "c94d2981",
   "metadata": {},
   "outputs": [],
   "source": [
    "#\n",
    "# Use this cell to work out your answer\n",
    "#"
   ]
  },
  {
   "cell_type": "markdown",
   "id": "31d622cb",
   "metadata": {},
   "source": [
    "*Use the cell below to submit your answer. Change the string `my_key` to your assessment key, and set the arguments  `my_part_a_df` ... `my_part_e_df` to refer to the dataframes containing your answers. Change `submit=False` to `submit=True` to save your score*"
   ]
  },
  {
   "cell_type": "code",
   "execution_count": null,
   "id": "250963bb",
   "metadata": {},
   "outputs": [],
   "source": [
    "#\n",
    "# Run this cell to submit your answer\n",
    "#\n",
    "sf.check_my_booleans(my_key=\"my_key\", my_part_a_df=None, my_part_b_df=None, my_part_c_df=None, \n",
    "                     my_part_d_df=None, my_part_e_df=None, submit=False)"
   ]
  },
  {
   "cell_type": "markdown",
   "id": "123a49cf",
   "metadata": {},
   "source": [
    "## Question 10\n",
    "\n",
    "### Read and analyse text\n",
    "\n",
    "\n",
    "*a) Read the text file `declaration_of_independence.txt` such that you can count the number of lines*\n",
    "\n",
    "*b) Use the `word_tokenize` function from the `nltk` library to count the number of words in the text file. The `import` statement is given in the code cell, below* \n",
    "\n",
    "*c) Create a `set` containing all the unique words in `declaration_of_independence.txt`* \n",
    "\n",
    "HINT: If two words are not separated by a space or some punctuation, then they will be counted as one word\n",
    "\n",
    "Use the next cell to import `word_tokenize`, and to work out your answer"
   ]
  },
  {
   "cell_type": "code",
   "execution_count": null,
   "id": "64335039",
   "metadata": {},
   "outputs": [],
   "source": [
    "#\n",
    "# Use this cell to work out your answer\n",
    "#\n",
    "from nltk.tokenize import word_tokenize\n",
    "#"
   ]
  },
  {
   "cell_type": "markdown",
   "id": "03bc23dd",
   "metadata": {},
   "source": [
    "*Use the cell below to submit your answer. Change the string `my_key` to your assessment key, and set `my_line_count` to the number of lines, `my_word_count` to the number of words, and `my_word_set` to the variable containing your set of uniquely occuring words. Change `submit=False` to `submit=True` to save your score*"
   ]
  },
  {
   "cell_type": "code",
   "execution_count": null,
   "id": "78a4a8ae",
   "metadata": {},
   "outputs": [],
   "source": [
    "#\n",
    "# Run this cell to submit your answer\n",
    "#\n",
    "sf.check_my_words(my_key=\"my_key\", my_line_count=0, my_word_count=0, my_word_set=None, submit=False)"
   ]
  },
  {
   "cell_type": "markdown",
   "id": "74438842",
   "metadata": {},
   "source": [
    "## Submit and end\n",
    "\n",
    "Please run the following cell to save the overall result for this assessment try\n",
    "\n",
    "You must run this cell even if you have run out of time\n",
    "\n",
    "*Change the string `my_key` to your assessment key, and run the cell. Change `submit=False` to `submit=True` to save your result*"
   ]
  },
  {
   "cell_type": "code",
   "execution_count": null,
   "id": "41fedaec",
   "metadata": {},
   "outputs": [],
   "source": [
    "#\n",
    "# Run this function to submit your overall result\n",
    "#\n",
    "sf.overall_submission(my_key=\"my_key\", submit=False)"
   ]
  }
 ],
 "metadata": {
  "kernelspec": {
   "display_name": "Python 3 (ipykernel)",
   "language": "python",
   "name": "python3"
  },
  "language_info": {
   "codemirror_mode": {
    "name": "ipython",
    "version": 3
   },
   "file_extension": ".py",
   "mimetype": "text/x-python",
   "name": "python",
   "nbconvert_exporter": "python",
   "pygments_lexer": "ipython3",
   "version": "3.7.13"
  }
 },
 "nbformat": 4,
 "nbformat_minor": 5
}
