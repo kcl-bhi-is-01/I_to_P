{
 "cells": [
  {
   "cell_type": "markdown",
   "id": "768272ba",
   "metadata": {},
   "source": [
    "# Immutability\n",
    "\n",
    "Python has specific rules about which types of object are mutable, and which are not\n",
    "\n",
    "In this notebook we examine some aspects of immutable data"
   ]
  },
  {
   "cell_type": "markdown",
   "id": "5ac829c0",
   "metadata": {},
   "source": [
    "In the cell below, we assign values to the variables `x`, `y` and `z`. The expressions on the right hand side of the `=` are called `literals` (or `iteral expressions`)\n",
    "\n",
    "The fact that literals themselves are immutable is of no practical consequence to programming in python"
   ]
  },
  {
   "cell_type": "code",
   "execution_count": null,
   "id": "8a20bdcb",
   "metadata": {},
   "outputs": [],
   "source": [
    "#\n",
    "# Immutable literals\n",
    "#\n",
    "x = \"abc\"\n",
    "y = 16\n",
    "z = 2.71828"
   ]
  },
  {
   "cell_type": "markdown",
   "id": "fa094293",
   "metadata": {},
   "source": [
    "We can see that if variables `x` and `p` are assigned the same literal value, then they both reference the same memory address. The area(s) of memory where literals are kept is sometimes known as the `literal pool`"
   ]
  },
  {
   "cell_type": "code",
   "execution_count": null,
   "id": "0a8317b3",
   "metadata": {},
   "outputs": [],
   "source": [
    "#\n",
    "# Set p to reference the literal \"abc\"\n",
    "# \n",
    "p = \"abc\"\n",
    "#\n",
    "print(\"x references memory location: \" + str(hex(id(x))))\n",
    "print(\"p references memory location: \" + str(hex(id(p))))"
   ]
  },
  {
   "cell_type": "markdown",
   "id": "b28e065b",
   "metadata": {},
   "source": [
    "In principle, the immutability of an object can be broken, using some esoteric method, but there is not really any point in doing this!"
   ]
  },
  {
   "cell_type": "markdown",
   "id": "e2b5ea0b",
   "metadata": {},
   "source": [
    "In practical useage of Python, the only thing to watch out for is the immutability of tuples and strings:"
   ]
  },
  {
   "cell_type": "code",
   "execution_count": null,
   "id": "f2343d7a",
   "metadata": {},
   "outputs": [],
   "source": [
    "#\n",
    "# Create a list and a tuple\n",
    "#\n",
    "a = [1, 2, 3]\n",
    "b = (1, 2, 3)\n",
    "#\n",
    "print(\"a is:\")\n",
    "print(a)\n",
    "print()\n",
    "print(\"b is:\")\n",
    "print(b)"
   ]
  },
  {
   "cell_type": "markdown",
   "id": "0a4fd35e",
   "metadata": {},
   "source": [
    "Now we change the 2nd element of `a` (bearing in mind that Python counts from 0):"
   ]
  },
  {
   "cell_type": "code",
   "execution_count": null,
   "id": "49f0fba3",
   "metadata": {},
   "outputs": [],
   "source": [
    "#\n",
    "# Change the second element of a\n",
    "#\n",
    "a[1] = 9\n",
    "#\n",
    "print(\"a is:\")\n",
    "print(a)"
   ]
  },
  {
   "cell_type": "markdown",
   "id": "a47d9cd8",
   "metadata": {},
   "source": [
    "*Can you write code in the cell below to change the second element of `b` to 9? What happens?*"
   ]
  },
  {
   "cell_type": "code",
   "execution_count": null,
   "id": "8e6c4614",
   "metadata": {},
   "outputs": [],
   "source": [
    "#\n",
    "# You can put your code here\n",
    "#"
   ]
  },
  {
   "cell_type": "markdown",
   "id": "24f80a48",
   "metadata": {},
   "source": [
    "We can try the same thing with a string\n",
    "\n",
    "We can display the second element of the string variable, `p`"
   ]
  },
  {
   "cell_type": "code",
   "execution_count": null,
   "id": "2474ded7",
   "metadata": {},
   "outputs": [],
   "source": [
    "#\n",
    "# Display the second element of p\n",
    "#\n",
    "print(\"p[1] is:\")\n",
    "print(p[1])"
   ]
  },
  {
   "cell_type": "markdown",
   "id": "dfc58edb",
   "metadata": {},
   "source": [
    "*Can you insert a code cell below that changes the second element of `p` to z? What happens?*"
   ]
  }
 ],
 "metadata": {
  "kernelspec": {
   "display_name": "Python 3 (ipykernel)",
   "language": "python",
   "name": "python3"
  },
  "language_info": {
   "codemirror_mode": {
    "name": "ipython",
    "version": 3
   },
   "file_extension": ".py",
   "mimetype": "text/x-python",
   "name": "python",
   "nbconvert_exporter": "python",
   "pygments_lexer": "ipython3",
   "version": "3.7.13"
  }
 },
 "nbformat": 4,
 "nbformat_minor": 5
}
