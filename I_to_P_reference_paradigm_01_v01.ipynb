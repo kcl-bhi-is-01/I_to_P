{
 "cells": [
  {
   "cell_type": "markdown",
   "id": "36404fb1",
   "metadata": {},
   "source": [
    "# Reference Semantics\n",
    "\n",
    "Python uses a reference paradigm\n",
    "\n",
    "With primitive objects, such as numbers and strings there are rarely any difficulties. But we have to be more careful with more complicated objects such as lists\n",
    "\n",
    "This notebook gives a simple illustration of how the referencing works"
   ]
  },
  {
   "cell_type": "markdown",
   "id": "6259484e",
   "metadata": {},
   "source": [
    "Firstly, we create a numeric variable, x, and then assign x to another variable, y:"
   ]
  },
  {
   "cell_type": "code",
   "execution_count": null,
   "id": "9e6e5d5d",
   "metadata": {},
   "outputs": [],
   "source": [
    "#\n",
    "# Set variable x to contain a reference to a memory location, which contains the number 46.7\n",
    "#\n",
    "x = 46.7\n",
    "#\n",
    "# Set variable y to contain the same reference as x\n",
    "#\n",
    "y = x\n",
    "#\n",
    "print(\"x is \" + str(x))\n",
    "print(\"y is \" + str(y))"
   ]
  },
  {
   "cell_type": "markdown",
   "id": "79969795",
   "metadata": {},
   "source": [
    "Now we change the value of x and see if this affects y:"
   ]
  },
  {
   "cell_type": "code",
   "execution_count": null,
   "id": "f105ea67",
   "metadata": {},
   "outputs": [],
   "source": [
    "#\n",
    "# Set variable x to contain a reference to a memory location, which contains the number 17.4\n",
    "#\n",
    "x = 17.4\n",
    "print(\"x is \" + str(x))"
   ]
  },
  {
   "cell_type": "markdown",
   "id": "da1354a9",
   "metadata": {},
   "source": [
    "*Can you write code in the cell below to find out the current value of y?*"
   ]
  },
  {
   "cell_type": "code",
   "execution_count": null,
   "id": "88b8b592",
   "metadata": {},
   "outputs": [],
   "source": [
    "#\n",
    "# You can put your code here\n",
    "#"
   ]
  },
  {
   "cell_type": "markdown",
   "id": "0f6910f9",
   "metadata": {},
   "source": [
    "Secondly, we create a simple list object which contains 3 numbers, and assign it to the variable a, and then assign a to another variable, b:"
   ]
  },
  {
   "cell_type": "code",
   "execution_count": null,
   "id": "98967124",
   "metadata": {},
   "outputs": [],
   "source": [
    "#\n",
    "# Set a to contain a reference to a memory location, which contains the list object [1, 2, 3]\n",
    "#\n",
    "a = [1, 2, 3]\n",
    "#\n",
    "# Set b to contains the same reference as a\n",
    "#\n",
    "b = a\n",
    "#\n",
    "print(\"a is:\")\n",
    "print(a)\n",
    "print(\"b is:\")\n",
    "print(b)"
   ]
  },
  {
   "cell_type": "markdown",
   "id": "15caf88e",
   "metadata": {},
   "source": [
    "Now we change the 2nd element of a (bearing in mind that Python counts from 0), and see if this affects b:"
   ]
  },
  {
   "cell_type": "code",
   "execution_count": null,
   "id": "4852c8e7",
   "metadata": {},
   "outputs": [],
   "source": [
    "#\n",
    "# Set the 2nd element of a to contain a reference to a memory location which contains the number 9\n",
    "#\n",
    "a[1] = 9\n",
    "#\n",
    "print(\"a is:\")\n",
    "print(a)"
   ]
  },
  {
   "cell_type": "markdown",
   "id": "11ae11b0",
   "metadata": {},
   "source": [
    "*Can you write code in the cell below to find out the current value of b?*"
   ]
  },
  {
   "cell_type": "code",
   "execution_count": null,
   "id": "a1bc63a2",
   "metadata": {},
   "outputs": [],
   "source": [
    "#\n",
    "# You can put your code here\n",
    "#"
   ]
  },
  {
   "cell_type": "markdown",
   "id": "01935466",
   "metadata": {},
   "source": [
    "What conclusions can you draw from these experiments?"
   ]
  }
 ],
 "metadata": {
  "kernelspec": {
   "display_name": "Python 3 (ipykernel)",
   "language": "python",
   "name": "python3"
  },
  "language_info": {
   "codemirror_mode": {
    "name": "ipython",
    "version": 3
   },
   "file_extension": ".py",
   "mimetype": "text/x-python",
   "name": "python",
   "nbconvert_exporter": "python",
   "pygments_lexer": "ipython3",
   "version": "3.7.13"
  }
 },
 "nbformat": 4,
 "nbformat_minor": 5
}
