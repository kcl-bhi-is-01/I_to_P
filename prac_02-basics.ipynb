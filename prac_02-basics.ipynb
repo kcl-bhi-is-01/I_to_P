{
 "cells": [
  {
   "cell_type": "markdown",
   "metadata": {
    "id": "oI0oWZ7PleNw"
   },
   "source": [
    "# Introduction to Python for Health Research\n",
    "# Practical 2\n",
    "\n",
    "_Angus Roberts<br/>\n",
    "Department of Biostatistics and Health Informatics<br/>\n",
    "Institute of Psychiatry, Psychology and Neuroscience<br/>\n",
    "King's College London<br/>_\n",
    "\n",
    "\n",
    "\n",
    "# Python basics\n",
    "Some simple first steps, to get used to Python and Jupyter\n",
    "\n"
   ]
  },
  {
   "cell_type": "markdown",
   "metadata": {
    "id": "Or-eKOoVleNy"
   },
   "source": [
    "## \"Hello world\"\n",
    "\n",
    "Here is the canonical \"Hello, world\" program - try it!"
   ]
  },
  {
   "cell_type": "code",
   "execution_count": null,
   "metadata": {
    "id": "ooiswzX6leNz"
   },
   "outputs": [],
   "source": [
    "# A simple program\n",
    "# to say hello\n",
    "\n",
    "print('Hello world') # This line does the output"
   ]
  },
  {
   "cell_type": "markdown",
   "metadata": {
    "id": "cNMyg5O9leNz"
   },
   "source": [
    "This illustrates a few simple ideas:\n",
    "\n",
    "**Comments**\n",
    "- Start with a `#`\n",
    "- End with the next newline\n",
    "- You can make long comments out of lots of one line comments\n",
    "- You can put a comment at the end of a line of code\n",
    "\n",
    "**Functions and simple output**\n",
    "- `print()` is a built-in function\n",
    "- It outputs to a text stream, e.g. a file, or by default, the console\n",
    "- Function arguments go in parentheses, separated by commas (there is one argument in this case)\n",
    "\n",
    "**Text**\n",
    "- Text can be placed in single quotes\n",
    "- There are lots of other ways of defining text, we will talk about these later\n",
    "- The text 'Hello world' is a *literal* - it has a fixed value\n",
    "\n"
   ]
  },
  {
   "cell_type": "markdown",
   "metadata": {
    "id": "XJZCXPedleN0"
   },
   "source": [
    "## Assigning to variables\n",
    "Run this code:"
   ]
  },
  {
   "cell_type": "code",
   "execution_count": null,
   "metadata": {
    "id": "iWk1rJX7leN0"
   },
   "outputs": [],
   "source": [
    "some_variable = 1\n",
    "print(some_variable)"
   ]
  },
  {
   "cell_type": "markdown",
   "metadata": {
    "id": "cvcOoicjleN0"
   },
   "source": [
    "This shows:\n",
    "\n",
    "**Assigning to variables**\n",
    "- You can assign a value to a variable with `=`\n",
    "\n",
    "**Variables**\n",
    "\n",
    "- The number `1` on the first line is another literal\n",
    "- It is being assigned to, or given, a name `some_variable`\n",
    "- By convention, variable names are `written_with_underscores`\n",
    "- An alternative is to `useCamelCase`\n",
    "- Variables are created as soon as you assign to them"
   ]
  },
  {
   "cell_type": "markdown",
   "metadata": {
    "id": "FWgU9i0sleN1"
   },
   "source": [
    "## <font color=green>💬 Reflection point</font>\n",
    "How is the use of the `print()` function different to its use in our 'Hello world' example?\n"
   ]
  },
  {
   "cell_type": "markdown",
   "metadata": {},
   "source": [
    "## Multiple assignment\n",
    "Try this:"
   ]
  },
  {
   "cell_type": "code",
   "execution_count": null,
   "metadata": {},
   "outputs": [],
   "source": [
    "one_variable, another_variable = 2, 3\n",
    "print(one_variable)\n",
    "print(another_variable)"
   ]
  },
  {
   "cell_type": "markdown",
   "metadata": {
    "id": "cp_z_v4cleN1"
   },
   "source": [
    "## Simple input\n",
    "Run this code:"
   ]
  },
  {
   "cell_type": "code",
   "execution_count": null,
   "metadata": {
    "id": "tHB2m1foleN2"
   },
   "outputs": [],
   "source": [
    "# Assign some keyboard input to a variable\n",
    "# and then print it\n",
    "\n",
    "x = input('Enter some text: ')\n",
    "print('You entered', x)"
   ]
  },
  {
   "cell_type": "markdown",
   "metadata": {
    "id": "pThwbvJTleN2"
   },
   "source": [
    "## <font color=green>💬 Reflection point</font>\n",
    "What kind of Python thing (i.e. what type of object) is `input()`?"
   ]
  },
  {
   "cell_type": "markdown",
   "metadata": {
    "id": "hF01Zw3gleN2"
   },
   "source": [
    "## <font color=green>💬 Reflection point</font>\n",
    "How many arguments has the `print()` function got in this example? What does the function do with each of them?"
   ]
  },
  {
   "cell_type": "markdown",
   "metadata": {
    "id": "5WfkH14TleN3"
   },
   "source": [
    "## Using functions\n",
    "In the above, we say the `input()` function _returns_ a value, and we assigned the returned value to a variable.\n",
    "\n",
    "The next exercises will help to give you further understanding of Python functions, and also practice in using the Python documentation.\n",
    "\n",
    "\n",
    "## <font color=green>❓ Try this</font>\n",
    "\n",
    "All Python functions return something. Write a small piece of code to find out what the `print()` function returns, in the cell below"
   ]
  },
  {
   "cell_type": "code",
   "execution_count": null,
   "metadata": {
    "id": "pyH6g1z-leN3"
   },
   "outputs": [],
   "source": [
    "# Figure out your answer in this cell"
   ]
  },
  {
   "cell_type": "markdown",
   "metadata": {
    "id": "oMRiFo_xleN3"
   },
   "source": [
    "## <font color=green>❓ Try this</font>\n",
    "\n",
    "Find out about the `print()` function from the [Python documentation](https://docs.python.org/3.7/index.html). You will find it described as a built-in function in the Library Reference.\n",
    "\n",
    "Write another \"hello world\" example that takes each word as a separate argument, defines how to separate them (not with the default space), and adds two newlines at the end instead of the default one.\n",
    "\n",
    "Use the cell below to figure out your answer"
   ]
  },
  {
   "cell_type": "code",
   "execution_count": null,
   "metadata": {
    "id": "tbwyxGYoleN4"
   },
   "outputs": [],
   "source": [
    "# Work out your answer in this cell"
   ]
  },
  {
   "cell_type": "markdown",
   "metadata": {
    "id": "86ZNAzkKleN4"
   },
   "source": [
    "## <font color=green>❓ Try this</font>\n",
    "\n",
    "Why might multiple assignment be useful with functions? Illustrate this by using the `divmod()` function, another built-in function described in the [Python documentation](https://docs.python.org/3.7/index.html) (see the Library Reference). Write two lines of code that do a division, and prints the answer in one readable line, e.g. ***Quotient is 3 and remainder is 2***\n",
    "\n",
    "\n",
    "Use the cell below to figure out your answer"
   ]
  },
  {
   "cell_type": "code",
   "execution_count": null,
   "metadata": {
    "id": "OM4JjeO6leN4"
   },
   "outputs": [],
   "source": [
    "# Work out your answer in this cell"
   ]
  }
 ],
 "metadata": {
  "kernelspec": {
   "display_name": "Python 3 (ipykernel)",
   "language": "python",
   "name": "python3"
  },
  "language_info": {
   "codemirror_mode": {
    "name": "ipython",
    "version": 3
   },
   "file_extension": ".py",
   "mimetype": "text/x-python",
   "name": "python",
   "nbconvert_exporter": "python",
   "pygments_lexer": "ipython3",
   "version": "3.7.13"
  }
 },
 "nbformat": 4,
 "nbformat_minor": 1
}
