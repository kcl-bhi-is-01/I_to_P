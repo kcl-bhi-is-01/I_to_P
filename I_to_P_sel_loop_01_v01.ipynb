{
 "cells": [
  {
   "cell_type": "markdown",
   "id": "768272ba",
   "metadata": {},
   "source": [
    "# Selection and Loop control\n",
    "\n",
    "Selection is where a choice has to be made about what actions a computer program has to take, based on conditions in the data. Python uses `if` ... `elif` ... `else` statements for selection\n",
    "\n",
    "Loop control statements are used to arrange the execution of a set of operations on `iterative` data structures (e.g. a cohort of patients, the sequence of treatments a patient has had), or to initiate a repetitive process, and terminate it when some goal has been arrived at.\n",
    "\n",
    "The loop control statemements in Python are `for` and `while`, with the use of `for` being more commonplace.\n",
    "\n",
    "In this notebook we will look at aspects of selection and loop control."
   ]
  },
  {
   "cell_type": "code",
   "execution_count": null,
   "id": "06b087d6",
   "metadata": {},
   "outputs": [],
   "source": [
    "#\n",
    "# This cell imports functions that are used later on\n",
    "#\n",
    "!wget -nv https://github.com/kcl-bhi-is-01/I_to_P_anc/raw/main/I_to_P_sel_loop_01_v01.pyc\n",
    "import I_to_P_sel_loop_01_v01 as sl"
   ]
  },
  {
   "cell_type": "markdown",
   "id": "0b3b20f7",
   "metadata": {},
   "source": [
    "We create some patient data using a simple class"
   ]
  },
  {
   "cell_type": "code",
   "execution_count": null,
   "id": "8a20bdcb",
   "metadata": {},
   "outputs": [],
   "source": [
    "#\n",
    "# A simple class for patients in a study\n",
    "#\n",
    "class Patient:\n",
    "    #\n",
    "    # Constructor function\n",
    "    #\n",
    "    def __init__(self, id, gender, demographic, age_at_start, baseline_BMI, baseline_pulse_pressure, \n",
    "                 outcome, months_to_outome):\n",
    "        #\n",
    "        # Store data in the new object\n",
    "        #\n",
    "        self.id           = id\n",
    "        self.gender       = gender\n",
    "        self.demographic  = demographic\n",
    "        self.age_at_start = age_at_start\n",
    "        self.baseline_BMI = baseline_BMI\n",
    "        self.baseline_pulse_pressure = baseline_pulse_pressure\n",
    "        self.outcome                 = outcome\n",
    "        self.months_to_outcome       = months_to_outome\n",
    "#\n",
    "#\n",
    "patients = []\n",
    "#\n",
    "patients.append(Patient(260, \"M\", \"C1\", 62, 25.6, 38.2, 0, 24))\n",
    "patients.append(Patient(981, \"M\", \"A\", 67, 18.2, 55.5, 1, 12))\n",
    "patients.append(Patient(95,  \"F\", \"C1\", 70, 32.7, 48.3, 0, 38))\n",
    "patients.append(Patient(126, \"F\", \"B\", 63, 24.2, 52.8, 0, 60))\n",
    "patients.append(Patient(308, \"M\", \"C2\", 62, 26.6, 38.2, 1, 52))\n",
    "patients.append(Patient(281, \"M\", \"D\", 79, 19.6, 55.5, 1, 59))\n",
    "patients.append(Patient(1,   \"F\", \"C1\", 61, 30.2, 48.3, 1, 17))\n",
    "patients.append(Patient(42,  \"M\", \"E\", 80, 23.9, 42.4, 0, 60))\n",
    "patients.append(Patient(1,   \"F\", \"Z\", 72, 33.7, 28.8, 1, 15))\n",
    "patients.append(Patient(42,  \"F\", \"E\", 64, 32, 43.0, 0, 60))"
   ]
  },
  {
   "cell_type": "markdown",
   "id": "4fa4ea09",
   "metadata": {},
   "source": [
    "In the cell below, we use `if` ... `elif` ... `else`, and `for` and `while` to count, and print out, the number of patients in each demographic class. \n",
    "\n",
    "Do you think `while` is better than `for` to print out the counts?\n",
    "\n",
    "What would happen if we accidentally omitted `i += 1` in the `while` loop?"
   ]
  },
  {
   "cell_type": "code",
   "execution_count": null,
   "id": "7906ec4d",
   "metadata": {},
   "outputs": [],
   "source": [
    "#\n",
    "# Count patients by demographic class\n",
    "#\n",
    "dem_counts = [0, 0, 0, 0, 0, 0]\n",
    "dem_names  = [\"A\", \"B\", \"C\", \"D\", \"E\", \"unknown\"]\n",
    "#\n",
    "for patient in patients:\n",
    "    if patient.demographic == \"A\":\n",
    "        dem_counts[0] += 1\n",
    "    elif patient.demographic == \"B\":\n",
    "        dem_counts[1] += 1\n",
    "    elif patient.demographic.startswith(\"C\"):\n",
    "        dem_counts[2] += 1\n",
    "    elif patient.demographic == \"D\":\n",
    "        dem_counts[3] += 1\n",
    "    elif patient.demographic == \"E\":\n",
    "        dem_counts[4] += 1\n",
    "    else:\n",
    "        print(\"Patient \" + str(patient.id) + \" has unknown demographic code\")\n",
    "        dem_counts[5] += 1\n",
    "    #\n",
    "#\n",
    "#\n",
    "i = 0\n",
    "while(i < 6):    \n",
    "    print(\"There are \" + str(dem_counts[i]) + \" patients in class \" + dem_names[i])\n",
    "    i += 1\n",
    "#\n",
    "#"
   ]
  },
  {
   "cell_type": "markdown",
   "id": "c4d81981",
   "metadata": {},
   "source": [
    "*Using the patient data from above, can you write the Python code to count patients by BMI category, using the baseline_BMI attribute of the Patient class?*\n",
    "\n",
    "BMI categories are:\n",
    "1. Below 18.5 – underweight\n",
    "2. Between 18.5 and 24.9 – healthy\n",
    "3. Between 25 and 29.9 – overweight\n",
    "4. Between 30 and 39.9 – obese\n",
    "5. Greater than 40 - severely obese\n",
    "\n",
    "*Put your results on a list containing 5 (integer) entries ordered by BMI category*"
   ]
  },
  {
   "cell_type": "code",
   "execution_count": null,
   "id": "f4d79199",
   "metadata": {},
   "outputs": [],
   "source": [
    "#\n",
    "# You can use this cell to figure out your answer\n",
    "#"
   ]
  },
  {
   "cell_type": "markdown",
   "id": "5ff4cb83",
   "metadata": {},
   "source": [
    "*Run the next cell to check your results, first changing `your_list` to the name of the variable, you have used to capture the BMI categories*"
   ]
  },
  {
   "cell_type": "code",
   "execution_count": null,
   "id": "8fdce669",
   "metadata": {},
   "outputs": [],
   "source": [
    "#\n",
    "# Run this cell to check your selected patients\n",
    "#\n",
    "sl.check_BMI_cats(patients, your_list)"
   ]
  }
 ],
 "metadata": {
  "kernelspec": {
   "display_name": "Python 3 (ipykernel)",
   "language": "python",
   "name": "python3"
  },
  "language_info": {
   "codemirror_mode": {
    "name": "ipython",
    "version": 3
   },
   "file_extension": ".py",
   "mimetype": "text/x-python",
   "name": "python",
   "nbconvert_exporter": "python",
   "pygments_lexer": "ipython3",
   "version": "3.7.13"
  }
 },
 "nbformat": 4,
 "nbformat_minor": 5
}
