{
 "cells": [
  {
   "cell_type": "markdown",
   "id": "768272ba",
   "metadata": {},
   "source": [
    "# Version of Python on Colab\n",
    "\n",
    "This Notebook displays the version of Python on Colab"
   ]
  },
  {
   "cell_type": "code",
   "execution_count": null,
   "id": "d0e2a28b",
   "metadata": {},
   "outputs": [],
   "source": [
    "#\n",
    "# Run this cell\n",
    "#\n",
    "import sys\n",
    "print(sys.version)"
   ]
  }
 ],
 "metadata": {
  "kernelspec": {
   "display_name": "Python 3 (ipykernel)",
   "language": "python",
   "name": "python3"
  },
  "language_info": {
   "codemirror_mode": {
    "name": "ipython",
    "version": 3
   },
   "file_extension": ".py",
   "mimetype": "text/x-python",
   "name": "python",
   "nbconvert_exporter": "python",
   "pygments_lexer": "ipython3",
   "version": "3.7.13"
  }
 },
 "nbformat": 4,
 "nbformat_minor": 5
}
