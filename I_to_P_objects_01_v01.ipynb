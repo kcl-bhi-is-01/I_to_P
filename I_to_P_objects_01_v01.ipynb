{
 "cells": [
  {
   "cell_type": "markdown",
   "id": "768272ba",
   "metadata": {},
   "source": [
    "# Objects\n",
    "\n",
    "`Objects` are entities which are created by the `instantiation` of a `class`. They `encapsulate` the variables and functions which form the definition of a class.\n",
    "\n",
    "In this notebook we will create a simple class"
   ]
  },
  {
   "cell_type": "code",
   "execution_count": null,
   "id": "06b087d6",
   "metadata": {},
   "outputs": [],
   "source": [
    "#\n",
    "# This cell imports functions that are used later on\n",
    "#\n",
    "!wget -nv https://github.com/kcl-bhi-is-01/I_to_P_anc/raw/main/I_to_P_objects_01_v01.pyc\n",
    "import I_to_P_objects_01_v01 as ob"
   ]
  },
  {
   "cell_type": "code",
   "execution_count": null,
   "id": "eb35ca91",
   "metadata": {},
   "outputs": [],
   "source": [
    "#\n",
    "# A simple class for patients in a study\n",
    "#\n",
    "class Patient:\n",
    "    #\n",
    "    # Constructor function\n",
    "    #\n",
    "    def __init__(self, id, gender, demographic, age_at_start, baseline_BMI, baseline_pulse_pressure, \n",
    "                 outcome, months_to_outome):\n",
    "        #\n",
    "        # Store data in the new object\n",
    "        #\n",
    "        self.id           = id\n",
    "        self.age_at_start = age_at_start\n",
    "        self.baseline_BMI = baseline_BMI\n",
    "        self.baseline_pulse_pressure = baseline_pulse_pressure\n",
    "        self.outcome                 = outcome\n",
    "        self.months_to_outcome       = months_to_outome\n",
    "    #\n",
    "    #\n",
    "    def right_censored(self, study_months):\n",
    "        #\n",
    "        # Return boolean if patient is right censored\n",
    "        #\n",
    "        if self.outcome == 0 and self.months_to_outcome < study_months:\n",
    "            return True\n",
    "        else:\n",
    "            return False\n",
    "        #\n",
    "    #\n",
    "    #\n",
    "#\n",
    "#"
   ]
  },
  {
   "cell_type": "markdown",
   "id": "485f9d68",
   "metadata": {},
   "source": [
    "Now we create some patient objects and store their references in a list:"
   ]
  },
  {
   "cell_type": "code",
   "execution_count": null,
   "id": "fd1abea2",
   "metadata": {},
   "outputs": [],
   "source": [
    "#\n",
    "# Create some patients\n",
    "#\n",
    "patients = []\n",
    "#\n",
    "patients.append(Patient(260, \"M\", \"C1\", 62, 23.6, 38.2, 0, 24))\n",
    "patients.append(Patient(981, \"M\", \"A\", 67, 18.6, 55.5, 1, 12))\n",
    "patients.append(Patient(95,  \"F\", \"C1\", 70, 32.7, 48.3, 0, 17))\n",
    "patients.append(Patient(126, \"F\", \"B\", 63, 24.2, 55.8, 0, 60))"
   ]
  },
  {
   "cell_type": "markdown",
   "id": "0b3b20f7",
   "metadata": {},
   "source": [
    "Now we can obtain a list of censored patients (those who left the study early), using the `is_right_censored()` method. Note how we refer to `right_censored()` via the object `patient` (and not directly via the class `Patient`)\n",
    ":"
   ]
  },
  {
   "cell_type": "code",
   "execution_count": null,
   "id": "8a20bdcb",
   "metadata": {},
   "outputs": [],
   "source": [
    "#\n",
    "# Print censored patients\n",
    "#\n",
    "for patient in patients:\n",
    "    if (patient.right_censored(60)):\n",
    "        print (\"patient \" + str(patient.id) + \" is censored\")\n",
    "    #\n",
    "#"
   ]
  },
  {
   "cell_type": "markdown",
   "id": "4fa4ea09",
   "metadata": {},
   "source": [
    "Note that we pass an argument of 60 into the method `right_censored`, which is the number of months in the study. Perhaps it would be better if the length of the study were associated with some object, which is an instance of a class called `Study`, say. What do you think?"
   ]
  },
  {
   "cell_type": "markdown",
   "id": "dd29c84d",
   "metadata": {},
   "source": [
    "*Can you modify the `Patient` class to include a `method` called `risky_BMI`, which returns `True` if `baseline_BMI` (Body Mass Index at baseline of study) is less than 18.5, or greater than 24.9, or `False` otherwise?*\n",
    "\n",
    "*You don't need to pass any arguments into this method*\n",
    "\n",
    "*You can either modify the `Patient` class shown above, or you can modify a copy of it in a new cell. Be sure to write code that tests your new method*"
   ]
  },
  {
   "cell_type": "code",
   "execution_count": null,
   "id": "9c1da786",
   "metadata": {},
   "outputs": [],
   "source": [
    "#\n",
    "# You can use this cell to create a new version of the class Patient, and modify it\n",
    "#"
   ]
  },
  {
   "cell_type": "markdown",
   "id": "5ff4cb83",
   "metadata": {},
   "source": [
    "*Run the next cell to check your changes to `Patient`*"
   ]
  },
  {
   "cell_type": "code",
   "execution_count": null,
   "id": "8fdce669",
   "metadata": {},
   "outputs": [],
   "source": [
    "#\n",
    "# Run this cell to check your new version of Patient\n",
    "#\n",
    "ob.check_patient_class(Patient)"
   ]
  }
 ],
 "metadata": {
  "kernelspec": {
   "display_name": "Python 3 (ipykernel)",
   "language": "python",
   "name": "python3"
  },
  "language_info": {
   "codemirror_mode": {
    "name": "ipython",
    "version": 3
   },
   "file_extension": ".py",
   "mimetype": "text/x-python",
   "name": "python",
   "nbconvert_exporter": "python",
   "pygments_lexer": "ipython3",
   "version": "3.7.13"
  }
 },
 "nbformat": 4,
 "nbformat_minor": 5
}
