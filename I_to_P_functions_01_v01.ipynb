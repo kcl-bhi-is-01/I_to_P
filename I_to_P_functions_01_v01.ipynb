{
 "cells": [
  {
   "cell_type": "markdown",
   "id": "768272ba",
   "metadata": {},
   "source": [
    "# Functions\n",
    "\n",
    "`Functions` are procedures which carry out some actions, optionally based on some input arguments, and which optionally return some values to the calling code\n",
    "\n",
    "In this notebook we will create some simple functions"
   ]
  },
  {
   "cell_type": "code",
   "execution_count": null,
   "id": "3049ab94",
   "metadata": {},
   "outputs": [],
   "source": [
    "#\n",
    "# This cell imports functions that are used later on\n",
    "#\n",
    "!wget -nv https://github.com/kcl-bhi-is-01/I_to_P_anc/raw/main/I_to_P_functions_01_v01.py\n",
    "import I_to_P_functions_01_v01 as fu"
   ]
  },
  {
   "cell_type": "markdown",
   "id": "0b3b20f7",
   "metadata": {},
   "source": [
    "Here is a simple function that adds 2 numbers and returns the result"
   ]
  },
  {
   "cell_type": "code",
   "execution_count": null,
   "id": "8a20bdcb",
   "metadata": {},
   "outputs": [],
   "source": [
    "def add_numbers(a, b):\n",
    "    #\n",
    "    # Add 2 numbers and return the result rounded to 2 dp's\n",
    "    #\n",
    "    return round(a + b, 2)\n",
    "#\n",
    "#"
   ]
  },
  {
   "cell_type": "markdown",
   "id": "dd29c84d",
   "metadata": {},
   "source": [
    "We can run the function as many times as we like:"
   ]
  },
  {
   "cell_type": "code",
   "execution_count": null,
   "id": "c0d3cf8d",
   "metadata": {},
   "outputs": [],
   "source": [
    "#\n",
    "# Run the add numbers function a few times\n",
    "#\n",
    "import random as ra\n",
    "#\n",
    "for i in range(10):\n",
    "    a = round(100 - ra.random() * 200, 2)\n",
    "    b = round(100 - ra.random() * 200, 2)\n",
    "    #\n",
    "    print(str(a) + \" + \" + str(b) + \" = \" + str(add_numbers(a, b)))"
   ]
  },
  {
   "cell_type": "markdown",
   "id": "b8890a2e",
   "metadata": {},
   "source": [
    "*Can you write a function that returns a list of the 1st `n` primes, where `n` is assumed to be in the range [0, 25]?*\n",
    "\n",
    "*Write your function and test it in the cell below*"
   ]
  },
  {
   "cell_type": "code",
   "execution_count": null,
   "id": "5fdebc0b",
   "metadata": {},
   "outputs": [],
   "source": [
    "#\n",
    "# Write your function and test it here\n",
    "#"
   ]
  },
  {
   "cell_type": "markdown",
   "id": "b88852c5",
   "metadata": {},
   "source": [
    "*Now you can check your result by modifying the function call in the cell below, and running the cell*\n",
    "\n",
    "*In the function call to `check_primes_function` in the cell, replace `my_primes_function` with the name of the function you have created. Then run the cell*"
   ]
  },
  {
   "cell_type": "code",
   "execution_count": null,
   "id": "9a1f26b3",
   "metadata": {},
   "outputs": [],
   "source": [
    "#\n",
    "# Here's the function call for you to modify\n",
    "#\n",
    "fu.check_primes_function(my_primes_function)"
   ]
  }
 ],
 "metadata": {
  "kernelspec": {
   "display_name": "Python 3 (ipykernel)",
   "language": "python",
   "name": "python3"
  },
  "language_info": {
   "codemirror_mode": {
    "name": "ipython",
    "version": 3
   },
   "file_extension": ".py",
   "mimetype": "text/x-python",
   "name": "python",
   "nbconvert_exporter": "python",
   "pygments_lexer": "ipython3",
   "version": "3.7.13"
  }
 },
 "nbformat": 4,
 "nbformat_minor": 5
}
