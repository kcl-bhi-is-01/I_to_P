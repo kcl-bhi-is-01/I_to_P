{
 "cells": [
  {
   "cell_type": "markdown",
   "id": "768272ba",
   "metadata": {},
   "source": [
    "# Sequence slicing\n",
    "\n",
    "`Strings` are sequences of characters, whereas `lists` and `tuples` are sequences of heterogenous objects\n",
    "\n",
    "`Lists` are mutable whereas `strings` and `tuples` are not\n",
    "\n",
    "Subsets of objects belonging to all three classes can be selected by `slicing` \n",
    "\n",
    "In this notebook you can try out some of the ways in which sequences can be sliced"
   ]
  },
  {
   "cell_type": "code",
   "execution_count": null,
   "id": "d0e2a28b",
   "metadata": {},
   "outputs": [],
   "source": [
    "#\n",
    "# This cell imports functions that are used later on\n",
    "#\n",
    "!wget -nv https://github.com/kcl-bhi-is-01/I_to_P_anc/raw/main/I_to_P_sequences_01_v01.pyc\n",
    "import I_to_P_sequences_01_v01 as sq"
   ]
  },
  {
   "cell_type": "markdown",
   "id": "5ac829c0",
   "metadata": {},
   "source": [
    "Firstly, we create some sequences:"
   ]
  },
  {
   "cell_type": "code",
   "execution_count": null,
   "id": "8a20bdcb",
   "metadata": {},
   "outputs": [],
   "source": [
    "#\n",
    "# Create some sequences and print their lengths\n",
    "#\n",
    "my_string = \"0123456789abcdefghijklmnopqrstuvwxyz\"\n",
    "my_list   = [\"a\", 1.3, True, 17, \"b\", \"c\", 6.02214076e23, False]\n",
    "my_tuple  = (0, 1, 2, 3, 4, 5, 6, 7, 8, 9, \"A\", \"B\", \"C\", \"D\", \"E\", \"F\")\n",
    "#\n",
    "print(\"my_string contains \" + str(len(my_string)), \"characters\")\n",
    "print(\"my_list contains \" + str(len(my_list)), \"objects\")\n",
    "print(\"my_tuple contains \" + str(len(my_tuple)), \"objects\")"
   ]
  },
  {
   "cell_type": "markdown",
   "id": "dd29c84d",
   "metadata": {},
   "source": [
    "Now we try out a few slices:"
   ]
  },
  {
   "cell_type": "code",
   "execution_count": null,
   "id": "c0d3cf8d",
   "metadata": {},
   "outputs": [],
   "source": [
    "#\n",
    "# Some sample slices\n",
    "#\n",
    "print(\"my_string[10:]:\")\n",
    "print(my_string[10:])\n",
    "print()\n",
    "print(\"my_string[0:-26]:\")\n",
    "print(my_string[0:-26])\n",
    "print()\n",
    "print(\"my_list[6:7]:\")\n",
    "print(my_list[6:7])"
   ]
  },
  {
   "cell_type": "markdown",
   "id": "06bfe6f6",
   "metadata": {},
   "source": [
    "We can change the values referenced by slices of lists, we can't do the same thing with strings or tuples:"
   ]
  },
  {
   "cell_type": "code",
   "execution_count": null,
   "id": "53e3e281",
   "metadata": {},
   "outputs": [],
   "source": [
    "#\n",
    "# Update part of a list and try updating part of a tuple\n",
    "#\n",
    "my_list[3:6] = [-7, \"y\", \"z\"]\n",
    "print(\"my_list:\")\n",
    "print(my_list)"
   ]
  },
  {
   "cell_type": "code",
   "execution_count": null,
   "id": "042daef8",
   "metadata": {},
   "outputs": [],
   "source": [
    "#\n",
    "# Try updating part of a tuple\n",
    "#\n",
    "my_tuple[3:6] = [-7, \"y\", \"z\"]"
   ]
  },
  {
   "cell_type": "markdown",
   "id": "fb095bcd",
   "metadata": {},
   "source": [
    "*Can you write the Python code to create a variable containing every second item, **including the zero'th**, in the current version of `my_list`?*\n",
    "\n",
    "*Use the cell below to create your variable*"
   ]
  },
  {
   "cell_type": "code",
   "execution_count": null,
   "id": "4f9849b6",
   "metadata": {},
   "outputs": [],
   "source": [
    "#\n",
    "# You can put your code here\n",
    "#"
   ]
  },
  {
   "cell_type": "markdown",
   "id": "cd9ea124",
   "metadata": {},
   "source": [
    "*Now you can check your result by modifying the function call in the cell below, and running the cell*\n",
    "\n",
    "*In the function call to `check_list_slice` in the cell, replace `my_variable` with the variable you have created. Then run the cell*"
   ]
  },
  {
   "cell_type": "code",
   "execution_count": null,
   "id": "888bc1ce",
   "metadata": {},
   "outputs": [],
   "source": [
    "#\n",
    "# Here's the function call for you to modify\n",
    "#\n",
    "sq.check_list_slice(my_list[::2])"
   ]
  }
 ],
 "metadata": {
  "kernelspec": {
   "display_name": "Python 3 (ipykernel)",
   "language": "python",
   "name": "python3"
  },
  "language_info": {
   "codemirror_mode": {
    "name": "ipython",
    "version": 3
   },
   "file_extension": ".py",
   "mimetype": "text/x-python",
   "name": "python",
   "nbconvert_exporter": "python",
   "pygments_lexer": "ipython3",
   "version": "3.7.13"
  }
 },
 "nbformat": 4,
 "nbformat_minor": 5
}
