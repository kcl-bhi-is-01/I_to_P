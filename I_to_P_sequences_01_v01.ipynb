{
 "cells": [
  {
   "cell_type": "markdown",
   "id": "768272ba",
   "metadata": {},
   "source": [
    "# Sequence slicing\n",
    "\n",
    "`Strings` are sequences of characters, whereas `lists` and `tuples` are sequences of heterogenous objects\n",
    "\n",
    "`Lists` are mutable whereas `strings` and `tuples` are not\n",
    "\n",
    "Subsets of objects in all three classes can be `sliced` \n",
    "\n",
    "In this notebook you can try out some of the ways in which sequences can be sliced"
   ]
  },
  {
   "cell_type": "markdown",
   "id": "5ac829c0",
   "metadata": {},
   "source": [
    "Firstly, we create some sequences:"
   ]
  },
  {
   "cell_type": "code",
   "execution_count": 9,
   "id": "8a20bdcb",
   "metadata": {},
   "outputs": [
    {
     "name": "stdout",
     "output_type": "stream",
     "text": [
      "zsh:1: command not found: wget\n",
      "my_string contains 36 characters\n",
      "my_list contains 8 objects\n",
      "my_tuple contains 16 objects\n"
     ]
    }
   ],
   "source": [
    "#\n",
    "# Import some functions for later on\n",
    "#\n",
    "!wget -nv https://github.com/kcl-bhi-is-01/I_to_P_anc/raw/main/I_to_P_sequences_01_v01.pyc\n",
    "import I_to_P_sequences_01_v01 as sq\n",
    "#\n",
    "# Create some sequences and print their lengths\n",
    "#\n",
    "my_string = \"0123456789abcdefghijklmnopqrstuvwxyz\"\n",
    "my_list   = [\"a\", 1.3, True, 17, \"b\", \"c\", 6.02214076e23, False]\n",
    "my_tuple  = (0, 1, 2, 3, 4, 5, 6, 7, 8, 9, \"A\", \"B\", \"C\", \"D\", \"E\", \"F\")\n",
    "#\n",
    "print(\"my_string contains \" + str(len(my_string)), \"characters\")\n",
    "print(\"my_list contains \" + str(len(my_list)), \"objects\")\n",
    "print(\"my_tuple contains \" + str(len(my_tuple)), \"objects\")"
   ]
  },
  {
   "cell_type": "markdown",
   "id": "dd29c84d",
   "metadata": {},
   "source": [
    "Now we try out a few slices:"
   ]
  },
  {
   "cell_type": "code",
   "execution_count": 11,
   "id": "c0d3cf8d",
   "metadata": {},
   "outputs": [
    {
     "name": "stdout",
     "output_type": "stream",
     "text": [
      "my_string[10:]:\n",
      "abcdefghijklmnopqrstuvwxyz\n",
      "\n",
      "my_string[0:-26]:\n",
      "0123456789\n",
      "\n",
      "my_list[6:7]:\n",
      "[6.02214076e+23]\n"
     ]
    }
   ],
   "source": [
    "#\n",
    "# Some sample slices\n",
    "#\n",
    "print(\"my_string[10:]:\")\n",
    "print(my_string[10:])\n",
    "print()\n",
    "print(\"my_string[0:-26]:\")\n",
    "print(my_string[0:-26])\n",
    "print()\n",
    "print(\"my_list[6:7]:\")\n",
    "print(my_list[6:7])"
   ]
  },
  {
   "cell_type": "markdown",
   "id": "06bfe6f6",
   "metadata": {},
   "source": [
    "We can change the values referenced by slices of lists, we can't do the same thing with strings or tuples:"
   ]
  },
  {
   "cell_type": "code",
   "execution_count": 12,
   "id": "53e3e281",
   "metadata": {},
   "outputs": [
    {
     "name": "stdout",
     "output_type": "stream",
     "text": [
      "my_list:\n",
      "['a', 1.3, True, -7, 'y', 'z', 6.02214076e+23, False]\n",
      "\n"
     ]
    },
    {
     "ename": "TypeError",
     "evalue": "'tuple' object does not support item assignment",
     "output_type": "error",
     "traceback": [
      "\u001b[0;31m---------------------------------------------------------------------------\u001b[0m",
      "\u001b[0;31mTypeError\u001b[0m                                 Traceback (most recent call last)",
      "\u001b[0;32m/var/folders/yw/217_5q3n5lnf46sz86ph0jtw0000gn/T/ipykernel_15186/402002404.py\u001b[0m in \u001b[0;36m<module>\u001b[0;34m\u001b[0m\n\u001b[1;32m      7\u001b[0m \u001b[0mprint\u001b[0m\u001b[0;34m(\u001b[0m\u001b[0;34m)\u001b[0m\u001b[0;34m\u001b[0m\u001b[0;34m\u001b[0m\u001b[0m\n\u001b[1;32m      8\u001b[0m \u001b[0;31m#\u001b[0m\u001b[0;34m\u001b[0m\u001b[0;34m\u001b[0m\u001b[0;34m\u001b[0m\u001b[0m\n\u001b[0;32m----> 9\u001b[0;31m \u001b[0mmy_tuple\u001b[0m\u001b[0;34m[\u001b[0m\u001b[0;36m3\u001b[0m\u001b[0;34m:\u001b[0m\u001b[0;36m6\u001b[0m\u001b[0;34m]\u001b[0m \u001b[0;34m=\u001b[0m \u001b[0;34m[\u001b[0m\u001b[0;34m-\u001b[0m\u001b[0;36m7\u001b[0m\u001b[0;34m,\u001b[0m \u001b[0;34m\"y\"\u001b[0m\u001b[0;34m,\u001b[0m \u001b[0;34m\"z\"\u001b[0m\u001b[0;34m]\u001b[0m\u001b[0;34m\u001b[0m\u001b[0;34m\u001b[0m\u001b[0m\n\u001b[0m",
      "\u001b[0;31mTypeError\u001b[0m: 'tuple' object does not support item assignment"
     ]
    }
   ],
   "source": [
    "#\n",
    "# Update past of a list and try updating part of a tuple\n",
    "#\n",
    "my_list[3:6] = [-7, \"y\", \"z\"]\n",
    "print(\"my_list:\")\n",
    "print(my_list)\n",
    "print()\n",
    "#\n",
    "my_tuple[3:6] = [-7, \"y\", \"z\"]"
   ]
  },
  {
   "cell_type": "markdown",
   "id": "fb095bcd",
   "metadata": {},
   "source": [
    "*Can you write the Python code to create a variable containing every second item, **including the zero'th**, in the current version of `my_list`?*\n",
    "\n",
    "*Use the cell below to create your variable*"
   ]
  },
  {
   "cell_type": "code",
   "execution_count": 7,
   "id": "4f9849b6",
   "metadata": {},
   "outputs": [
    {
     "data": {
      "text/plain": [
       "(0, 2, 4, 6, 8, 'A', 'C', 'E')"
      ]
     },
     "execution_count": 7,
     "metadata": {},
     "output_type": "execute_result"
    }
   ],
   "source": [
    "#\n",
    "# You can put your code here\n",
    "#"
   ]
  },
  {
   "cell_type": "markdown",
   "id": "cd9ea124",
   "metadata": {},
   "source": [
    "*Now you can check your result by modifying the function call in the cell below, and running the cell*\n",
    "\n",
    "*In the function call to `check_list_slice` in the cell, replace `my_variable` with the variable you have created. Then run the cell*"
   ]
  },
  {
   "cell_type": "code",
   "execution_count": 13,
   "id": "888bc1ce",
   "metadata": {},
   "outputs": [
    {
     "name": "stdout",
     "output_type": "stream",
     "text": [
      "\n",
      "Correct - Well done!\n"
     ]
    }
   ],
   "source": [
    "\n",
    "#\n",
    "# Here's the function call for you to modify\n",
    "#\n",
    "sq.check_list_slice(my_list[::2])"
   ]
  }
 ],
 "metadata": {
  "kernelspec": {
   "display_name": "Python 3 (ipykernel)",
   "language": "python",
   "name": "python3"
  },
  "language_info": {
   "codemirror_mode": {
    "name": "ipython",
    "version": 3
   },
   "file_extension": ".py",
   "mimetype": "text/x-python",
   "name": "python",
   "nbconvert_exporter": "python",
   "pygments_lexer": "ipython3",
   "version": "3.7.13"
  }
 },
 "nbformat": 4,
 "nbformat_minor": 5
}
