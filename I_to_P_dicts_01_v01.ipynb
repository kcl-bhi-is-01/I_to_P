{
 "cells": [
  {
   "cell_type": "markdown",
   "id": "768272ba",
   "metadata": {},
   "source": [
    "# Dictionaries\n",
    "\n",
    "A dictionary is a collection which is organised into `key value pairs`, each item having a `key`, which can be used to find the item, and a `value`, which is the data we want to find\n",
    "\n",
    "In this notebook we look at some of the qualities of dictionaries"
   ]
  },
  {
   "cell_type": "code",
   "execution_count": null,
   "id": "06b087d6",
   "metadata": {},
   "outputs": [],
   "source": [
    "#\n",
    "# This cell imports functions that are used later on\n",
    "#\n",
    "!wget -nv https://github.com/kcl-bhi-is-01/I_to_P_anc/raw/main/I_to_P_dicts_01_v01.py\n",
    "import I_to_P_dicts_01_v01 as di"
   ]
  },
  {
   "cell_type": "markdown",
   "id": "e3af7f30",
   "metadata": {},
   "source": [
    "Firstly we set up a simple dictionary and display its content. What happens when we try and use a boolean as a key?"
   ]
  },
  {
   "cell_type": "code",
   "execution_count": null,
   "id": "cf996e7e",
   "metadata": {},
   "outputs": [],
   "source": [
    "#\n",
    "# Set up dictionary and display content\n",
    "#\n",
    "my_dict = {1:\"a\", \"key\":\"value\", 9:-16.3, 22.1:False, True:\"True\", \"set\":set(range(5))}\n",
    "print(\"my_dict:\")\n",
    "print(my_dict)\n",
    "#\n",
    "print()\n",
    "print(\"key value pairs in my_dict:\")\n",
    "for key, value in my_dict.items():\n",
    "  print(key, \",\", value)"
   ]
  },
  {
   "cell_type": "markdown",
   "id": "fe7079e9",
   "metadata": {},
   "source": [
    "We can use the keys to retrieve values:"
   ]
  },
  {
   "cell_type": "code",
   "execution_count": null,
   "id": "eb35ca91",
   "metadata": {},
   "outputs": [],
   "source": [
    "#\n",
    "# Use dictionary keys to retrieve items\n",
    "#\n",
    "print(\"my_dict[22.1]: \", my_dict[22.1])\n",
    "print()\n",
    "print(\"my_dict[\\\"set\\\"]: \", my_dict[\"set\"])\n",
    "#"
   ]
  },
  {
   "cell_type": "markdown",
   "id": "0b3b20f7",
   "metadata": {},
   "source": [
    "Run this cell to create a list of patients"
   ]
  },
  {
   "cell_type": "code",
   "execution_count": null,
   "id": "8a20bdcb",
   "metadata": {},
   "outputs": [],
   "source": [
    "##\n",
    "# A simple class for patients in a study\n",
    "#\n",
    "class Patient:\n",
    "    #\n",
    "    # Constructor function\n",
    "    #\n",
    "    def __init__(self, id, gender, demographic, age_at_start, baseline_BMI, baseline_pulse_pressure, \n",
    "                 outcome, months_to_outcome):\n",
    "        #\n",
    "        # Store data in the new object\n",
    "        #\n",
    "        self.id           = id\n",
    "        self.gender       = gender\n",
    "        self.demographic  = demographic\n",
    "        self.age_at_start = age_at_start\n",
    "        self.baseline_BMI = baseline_BMI\n",
    "        self.baseline_pulse_pressure = baseline_pulse_pressure\n",
    "        self.outcome                 = outcome\n",
    "        self.months_to_outcome       = months_to_outcome\n",
    "#\n",
    "#\n",
    "patients = []\n",
    "#\n",
    "patients.append(Patient(260, \"M\", \"C1\", 62, 25.6, 38.2, 0, 24))\n",
    "patients.append(Patient(981, \"M\", \"A\", 67, 18.2, 55.5, 1, 12))\n",
    "patients.append(Patient(95,  \"F\", \"C1\", 70, 32.7, 48.3, 0, 38))\n",
    "patients.append(Patient(126, \"F\", \"B\", 63, 24.2, 52.8, 0, 60))\n",
    "patients.append(Patient(308, \"M\", \"C2\", 62, 26.6, 38.2, 1, 52))\n",
    "patients.append(Patient(281, \"M\", \"D\", 79, 19.6, 55.5, 1, 59))\n",
    "patients.append(Patient(1,   \"F\", \"C1\", 61, 30.2, 48.3, 1, 17))\n",
    "patients.append(Patient(42,  \"M\", \"E\", 80, 23.9, 42.4, 0, 60))\n",
    "patients.append(Patient(1,   \"F\", \"Z\", 72, 33.7, 28.8, 1, 15))\n",
    "patients.append(Patient(42,  \"F\", \"E\", 64, 32, 43.0, 0, 60))"
   ]
  },
  {
   "cell_type": "markdown",
   "id": "4fa4ea09",
   "metadata": {},
   "source": [
    "*Can you write the code to create a dictionary containing the patients in the list, where each item's `key` is the patient's `id` (i.e. `patients[0].id` is the `id` of the 1st patient). Each item's `value` should be the patient object?* \n",
    "\n",
    "Use the cell below to create your dictionary"
   ]
  },
  {
   "cell_type": "code",
   "execution_count": null,
   "id": "7906ec4d",
   "metadata": {},
   "outputs": [],
   "source": [
    "#\n",
    "# Use this cell to create your dictionary\n",
    "#"
   ]
  },
  {
   "cell_type": "markdown",
   "id": "fc24cf3c",
   "metadata": {},
   "source": [
    "Run the cell below to check your dictionary. Replace `patients_dict` with the variable that references your dictionary, then run the cell"
   ]
  },
  {
   "cell_type": "code",
   "execution_count": null,
   "id": "bf549e71",
   "metadata": {},
   "outputs": [],
   "source": [
    "#\n",
    "# Run this cell to check your dictionary\n",
    "#\n",
    "di.check_dictionary(patients_dict, patients)"
   ]
  }
 ],
 "metadata": {
  "kernelspec": {
   "display_name": "Python 3 (ipykernel)",
   "language": "python",
   "name": "python3"
  },
  "language_info": {
   "codemirror_mode": {
    "name": "ipython",
    "version": 3
   },
   "file_extension": ".py",
   "mimetype": "text/x-python",
   "name": "python",
   "nbconvert_exporter": "python",
   "pygments_lexer": "ipython3",
   "version": "3.7.13"
  }
 },
 "nbformat": 4,
 "nbformat_minor": 5
}
