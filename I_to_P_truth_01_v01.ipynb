{
 "cells": [
  {
   "cell_type": "markdown",
   "id": "768272ba",
   "metadata": {},
   "source": [
    "# Truth\n",
    "\n",
    "In Python, all objects evaluate to either `True` or `False`. Most of the time, however, we are interested in the truth value of `boolean variables` and `boolean expressions`. \n",
    "\n",
    "A `boolean variable` is a variable which has the acquired the value `True` or `False` \n",
    "\n",
    "A `boolean expression` is usually a `comparison` (e.g. ==, !=, <, >) operation, or the invocation of a function which returns the truth of some test (e.g. startswith(), endswith(), isinstance()). Simple boolean expressions are often combined into more complex ones using `boolean operators` (e.g. `not`, `and`, `or`).\n",
    "\n",
    "We can force the `precedence` of elements of a complex boolean expression using `parentheses`\n",
    "\n",
    "In this notebook we explore these aspects of truth"
   ]
  },
  {
   "cell_type": "code",
   "execution_count": null,
   "id": "06b087d6",
   "metadata": {},
   "outputs": [],
   "source": [
    "#\n",
    "# This cell imports functions that are used later on\n",
    "#\n",
    "!wget -nv https://github.com/kcl-bhi-is-01/I_to_P_anc/raw/main/I_to_P_truth_01_v01.pyc\n",
    "import I_to_P_truth_01_v01 as tr"
   ]
  },
  {
   "cell_type": "markdown",
   "id": "fe7079e9",
   "metadata": {},
   "source": [
    "We can test the value of a `boolean variable` with an `if` statement: "
   ]
  },
  {
   "cell_type": "code",
   "execution_count": null,
   "id": "eb35ca91",
   "metadata": {},
   "outputs": [],
   "source": [
    "#\n",
    "# Set and test boolean variables\n",
    "#\n",
    "x = True\n",
    "if x:\n",
    "    print(\"x is True\")\n",
    "#\n",
    "y = False\n",
    "if not y:\n",
    "    print(\"y is False\")\n",
    "#"
   ]
  },
  {
   "cell_type": "markdown",
   "id": "485f9d68",
   "metadata": {},
   "source": [
    "We can check the truth of variables of any type:"
   ]
  },
  {
   "cell_type": "code",
   "execution_count": null,
   "id": "fd1abea2",
   "metadata": {},
   "outputs": [],
   "source": [
    "#\n",
    "# Print the truth of a selection of variables and literals\n",
    "#\n",
    "def truth_of(any_var, any_var_caller_name):\n",
    "    #\n",
    "    # Test truth with bool()\n",
    "    #\n",
    "    print(any_var_caller_name + \" is \" + str(bool(any_var)))\n",
    "#\n",
    "#\n",
    "a = \"False\"\n",
    "truth_of(a, \"a\")\n",
    "#\n",
    "b = None\n",
    "truth_of(b, \"b\")\n",
    "#\n",
    "empty_list = []\n",
    "truth_of(empty_list, \"empty_list\")\n",
    "#\n",
    "a_list = [\"H\", 15,2, False]\n",
    "truth_of(a_list, \"a_list\")\n",
    "#\n",
    "truth_of(truth_of, \"truth_of\")\n",
    "#\n",
    "truth_of((-1) ** 0.5, \"(-1) ** 0.5\")\n",
    "#\n",
    "truth_of(0 / 1, \"0 / 1\")\n",
    "#\n",
    "truth_of(my_var, \"my_var\")\n",
    "#"
   ]
  },
  {
   "cell_type": "markdown",
   "id": "0b3b20f7",
   "metadata": {},
   "source": [
    "Now we are going to create some Patient data using a simple class"
   ]
  },
  {
   "cell_type": "code",
   "execution_count": null,
   "id": "8a20bdcb",
   "metadata": {},
   "outputs": [],
   "source": [
    "#\n",
    "# A simple class for patients in a study\n",
    "#\n",
    "class Patient:\n",
    "    #\n",
    "    # Constructor function\n",
    "    #\n",
    "    def __init__(self, id, gender, demographic, age_at_start, baseline_BMI, baseline_pulse_pressure, \n",
    "                 outcome, months_to_outcome):\n",
    "        #\n",
    "        # Store data in the new object\n",
    "        #\n",
    "        self.id           = id\n",
    "        self.gender       = gender\n",
    "        self.demographic  = demographic\n",
    "        self.age_at_start = age_at_start\n",
    "        self.baseline_BMI = baseline_BMI\n",
    "        self.baseline_pulse_pressure = baseline_pulse_pressure\n",
    "        self.outcome                 = outcome\n",
    "        self.months_to_outcome       = months_to_outcome\n",
    "#\n",
    "#\n",
    "patients = []\n",
    "#\n",
    "patients.append(Patient(260, \"M\", \"C1\", 62, 25.6, 38.2, 0, 24))\n",
    "patients.append(Patient(981, \"M\", \"A\", 67, 18.6, 55.5, 1, 12))\n",
    "patients.append(Patient(95,  \"F\", \"C1\", 70, 32.7, 48.3, 0, 38))\n",
    "patients.append(Patient(126, \"F\", \"B\", 63, 24.2, 52.8, 0, 60))\n",
    "patients.append(Patient(308, \"M\", \"C2\", 62, 26.6, 38.2, 1, 52))\n",
    "patients.append(Patient(281, \"M\", \"D\", 79, 19.6, 55.5, 1, 59))\n",
    "patients.append(Patient(1,   \"F\", \"C1\", 61, 30.2, 48.3, 1, 17))\n",
    "patients.append(Patient(42,  \"M\", \"E\", 80, 23.9, 42.4, 0, 60))"
   ]
  },
  {
   "cell_type": "markdown",
   "id": "4fa4ea09",
   "metadata": {},
   "source": [
    "Here's an example of using a `boolean expression` in an `if` statement, to print the ids of all patients who were over 65 at the start of the study, and have an outcome of 1:"
   ]
  },
  {
   "cell_type": "code",
   "execution_count": null,
   "id": "7906ec4d",
   "metadata": {},
   "outputs": [],
   "source": [
    "#\n",
    "# Print ids of selected patients\n",
    "#\n",
    "for patient in patients:\n",
    "    if patient.age_at_start > 65 and patient.outcome == 1:\n",
    "        print(\"selected patient id: \" + str(patient.id))\n",
    "#       "
   ]
  },
  {
   "cell_type": "markdown",
   "id": "c4d81981",
   "metadata": {},
   "source": [
    "*Using the `for loop` from the cell above, can you write an `if` statement that prints out the ids of those patients where:<br>\n",
    "a) gender is \"M\", and either:<br>\n",
    "b) demographic is not \"D\" and not \"E, or<br>\n",
    "c) baseline BMI is greater than 25 and baseline pulse pressure is less than 40<br>\n",
    "?*\n",
    "\n",
    "Note: You may find it useful to use the `\\` symbol to continue your Python statement onto another line\n",
    "\n",
    "*You can use the cell below to figure out your answer, and then submit it in the cell below that*"
   ]
  },
  {
   "cell_type": "code",
   "execution_count": null,
   "id": "f4d79199",
   "metadata": {},
   "outputs": [],
   "source": [
    "#\n",
    "# You can use this cell to figure out your answer\n",
    "#"
   ]
  },
  {
   "cell_type": "markdown",
   "id": "5ff4cb83",
   "metadata": {},
   "source": [
    "*Run the next cell to check your `if` statement. Put the `id`s of the patients you selected inside the `[]` in the function call, and run the cell*"
   ]
  },
  {
   "cell_type": "code",
   "execution_count": null,
   "id": "8fdce669",
   "metadata": {},
   "outputs": [],
   "source": [
    "#\n",
    "# Run this cell to check your selected patients\n",
    "#\n",
    "tr.check_patient_truth(patients, [])\n",
    "#"
   ]
  }
 ],
 "metadata": {
  "kernelspec": {
   "display_name": "Python 3 (ipykernel)",
   "language": "python",
   "name": "python3"
  },
  "language_info": {
   "codemirror_mode": {
    "name": "ipython",
    "version": 3
   },
   "file_extension": ".py",
   "mimetype": "text/x-python",
   "name": "python",
   "nbconvert_exporter": "python",
   "pygments_lexer": "ipython3",
   "version": "3.7.13"
  }
 },
 "nbformat": 4,
 "nbformat_minor": 5
}
