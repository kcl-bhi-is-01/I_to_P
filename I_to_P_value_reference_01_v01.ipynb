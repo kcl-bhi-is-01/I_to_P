{
 "cells": [
  {
   "cell_type": "markdown",
   "metadata": {
    "id": "EpbT5yTXIFaT"
   },
   "source": [
    "# Reference Semantics\n",
    "\n",
    "Python uses a reference paradigm\n",
    "\n",
    "With primitive objects, such as numbers and strings there are rarely an difficulties. But we have to be more careful with more complicated objects such as lists\n",
    "\n"
   ]
  },
  {
   "cell_type": "markdown",
   "metadata": {},
   "source": [
    "Firstly, we create a numeric variable, x, and then assign x to another variable, y:"
   ]
  },
  {
   "cell_type": "code",
   "execution_count": 35,
   "metadata": {
    "id": "7ESh_zb_I6gG"
   },
   "outputs": [
    {
     "name": "stdout",
     "output_type": "stream",
     "text": [
      "x is 46.7\n",
      "y is 46.7\n"
     ]
    }
   ],
   "source": [
    "#\n",
    "# Set variable x to contain a reference to a memory location, which contains the number 46.7\n",
    "#\n",
    "x = 46.7\n",
    "#\n",
    "# Set variable y to contain the same reference as x\n",
    "#\n",
    "y = x\n",
    "#\n",
    "print(\"x is \" + str(x))\n",
    "print(\"y is \" + str(y))"
   ]
  },
  {
   "cell_type": "markdown",
   "metadata": {},
   "source": [
    "Now we change the value of x and see if this affects y:"
   ]
  },
  {
   "cell_type": "code",
   "execution_count": 36,
   "metadata": {},
   "outputs": [
    {
     "name": "stdout",
     "output_type": "stream",
     "text": [
      "x is 17.4\n"
     ]
    }
   ],
   "source": [
    "#\n",
    "# Set variable x to contain a reference to a memory location, which contains the number 17.4\n",
    "#\n",
    "x = 17.4\n",
    "print(\"x is \" + str(x))"
   ]
  },
  {
   "cell_type": "markdown",
   "metadata": {},
   "source": [
    "*Can you write code in the cell below to find out the current value of y?*"
   ]
  },
  {
   "cell_type": "code",
   "execution_count": 37,
   "metadata": {
    "id": "QDPxrbJ5IQF_"
   },
   "outputs": [],
   "source": [
    "#\n",
    "# You can put your code here\n",
    "#"
   ]
  },
  {
   "cell_type": "markdown",
   "metadata": {},
   "source": [
    "Secondly, we create a simple list object which contains 3 numbers, and assign it to the variable a, and then assign a to another variable, b:\n"
   ]
  },
  {
   "cell_type": "code",
   "execution_count": 39,
   "metadata": {},
   "outputs": [
    {
     "name": "stdout",
     "output_type": "stream",
     "text": [
      "a is:\n",
      "[1, 2, 3]\n",
      "b is:\n",
      "[1, 2, 3]\n"
     ]
    }
   ],
   "source": [
    "#\n",
    "# Set a to contain a reference to a memory location, which contains the list object [1, 2, 3]\n",
    "#\n",
    "a = [1, 2, 3]\n",
    "#\n",
    "# Set b to contains the same reference as a\n",
    "#\n",
    "b = a\n",
    "#\n",
    "print(\"a is:\")\n",
    "print(a)\n",
    "print(\"b is:\")\n",
    "print(b)"
   ]
  },
  {
   "cell_type": "markdown",
   "metadata": {},
   "source": [
    "Now we change the 2nd element of a (bearing in mind that Python counts from 0), and see if this affects b:"
   ]
  },
  {
   "cell_type": "code",
   "execution_count": 40,
   "metadata": {},
   "outputs": [
    {
     "name": "stdout",
     "output_type": "stream",
     "text": [
      "a is:\n",
      "[1, 9, 3]\n"
     ]
    }
   ],
   "source": [
    "#\n",
    "# Set the 2nd element of a to contain a reference to a memory location which contains the number 9\n",
    "#\n",
    "a[1] = 9\n",
    "#\n",
    "print(\"a is:\")\n",
    "print(a)"
   ]
  },
  {
   "cell_type": "markdown",
   "metadata": {},
   "source": [
    "*Can you write code in the cell below to find out the current value of b?*"
   ]
  },
  {
   "cell_type": "code",
   "execution_count": 41,
   "metadata": {
    "id": "CFrooygARcsZ"
   },
   "outputs": [],
   "source": [
    "#\n",
    "# You can put your code here\n",
    "#"
   ]
  },
  {
   "cell_type": "markdown",
   "metadata": {},
   "source": [
    "What conclusions can you draw from these experiments?"
   ]
  }
 ],
 "metadata": {
  "colab": {
   "collapsed_sections": [],
   "name": "Copy of bag-of-words.ipynb",
   "provenance": [
    {
     "file_id": "https://github.com/KCL-Health-NLP/nlp_examples/blob/master/representation/bag_of_words.ipynb",
     "timestamp": 1657284915033
    }
   ]
  },
  "kernelspec": {
   "display_name": "Python 3 (ipykernel)",
   "language": "python",
   "name": "python3"
  },
  "language_info": {
   "codemirror_mode": {
    "name": "ipython",
    "version": 3
   },
   "file_extension": ".py",
   "mimetype": "text/x-python",
   "name": "python",
   "nbconvert_exporter": "python",
   "pygments_lexer": "ipython3",
   "version": "3.7.13"
  }
 },
 "nbformat": 4,
 "nbformat_minor": 1
}
