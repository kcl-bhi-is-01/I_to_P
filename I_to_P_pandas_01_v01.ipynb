{
 "cells": [
  {
   "cell_type": "markdown",
   "id": "768272ba",
   "metadata": {},
   "source": [
    "# Pandas\n",
    "\n",
    "We use Pandas to load data sets into `dataframes`, where they can be subjected to a number of powerful data manipulation and enquiry methods, which are built into the Pandas package\n",
    "\n",
    "In this notebook we are going to load a file into a Pandas dataframe and try out some data operations"
   ]
  },
  {
   "cell_type": "code",
   "execution_count": null,
   "id": "06b087d6",
   "metadata": {},
   "outputs": [],
   "source": [
    "#\n",
    "# This cell imports data and functions that are used later on\n",
    "#\n",
    "!wget -nv https://github.com/kcl-bhi-is-01/datasets/raw/main/children_autism.csv\n",
    "!wget -nv https://github.com/kcl-bhi-is-01/I_to_P_anc/raw/main/I_to_P_pandas_01_v01.pyc\n",
    "import I_to_P_pandas_01_v01 as p1"
   ]
  },
  {
   "cell_type": "markdown",
   "id": "0fdb7789",
   "metadata": {},
   "source": [
    "In the cell below, we read `children_autism.csv` into a Pandas dataframe. This dataset is a manicured version of an orginal (*thanks to Fadi Fayez Thabtah, Department of Digital Technology, Manukau Institute of Technology, Auckland, New Zealand*). Its dependent variable, `asd` shows if Autistic Spectrum Disorder has been diagnosed in the child represented by each row."
   ]
  },
  {
   "cell_type": "code",
   "execution_count": null,
   "id": "cd463bce",
   "metadata": {},
   "outputs": [],
   "source": [
    "#\n",
    "# Read children_autism.csv\n",
    "#\n",
    "import pandas as pd\n",
    "pd.options.display.max_rows = None\n",
    "#\n",
    "asd_df = pd.read_csv(\"children_autism.csv\")\n",
    "asd_df"
   ]
  },
  {
   "cell_type": "markdown",
   "id": "787f6490",
   "metadata": {},
   "source": [
    "In the next cell we use the Pandas `mode()` method to find the mode of the `ethnicity` column\n",
    "\n",
    "*Why do you think `mode()` returns a Pandas `Series` object instead of just a `string` variable?*"
   ]
  },
  {
   "cell_type": "code",
   "execution_count": null,
   "id": "400a8c37",
   "metadata": {},
   "outputs": [],
   "source": [
    "#\n",
    "# Print mode of ethnicity column\n",
    "#\n",
    "print(\"ethnicity mode:\")\n",
    "print()\n",
    "print(asd_df[\"ethnicity\"].mode())"
   ]
  },
  {
   "cell_type": "markdown",
   "id": "e3af7f30",
   "metadata": {},
   "source": [
    "*Can you use Pandas functions to find the `mean` of the `age` column and the `median` of the `score` column?*\n",
    "\n",
    "*You can work out your answers in the next cell, and check them in the cell below that*"
   ]
  },
  {
   "cell_type": "code",
   "execution_count": null,
   "id": "f307dbe3",
   "metadata": {},
   "outputs": [],
   "source": [
    "#\n",
    "# Use this cell to figure out your answers\n",
    "#"
   ]
  },
  {
   "cell_type": "markdown",
   "id": "429a1dbd",
   "metadata": {},
   "source": [
    "*Replace `your_mean` and `your_median` with your answers, then run the cell*"
   ]
  },
  {
   "cell_type": "code",
   "execution_count": null,
   "id": "adf91bd0",
   "metadata": {},
   "outputs": [],
   "source": [
    "#\n",
    "# Put your answers in the function call, then run this cell to check them\n",
    "#\n",
    "p1.check_mean_median(asd_df, your_mean, your_median)\n",
    "#"
   ]
  }
 ],
 "metadata": {
  "kernelspec": {
   "display_name": "Python 3 (ipykernel)",
   "language": "python",
   "name": "python3"
  },
  "language_info": {
   "codemirror_mode": {
    "name": "ipython",
    "version": 3
   },
   "file_extension": ".py",
   "mimetype": "text/x-python",
   "name": "python",
   "nbconvert_exporter": "python",
   "pygments_lexer": "ipython3",
   "version": "3.7.13"
  }
 },
 "nbformat": 4,
 "nbformat_minor": 5
}
